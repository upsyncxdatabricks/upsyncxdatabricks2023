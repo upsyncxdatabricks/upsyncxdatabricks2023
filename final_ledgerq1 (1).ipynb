{
 "cells": [
  {
   "cell_type": "code",
   "execution_count": 0,
   "metadata": {
    "application/vnd.databricks.v1+cell": {
     "cellMetadata": {
      "byteLimit": 2048000,
      "rowLimit": 10000
     },
     "inputWidgets": {},
     "nuid": "1c49164a-3b81-4339-996e-cca6d5fd179f",
     "showTitle": false,
     "title": ""
    }
   },
   "outputs": [
    {
     "output_type": "display_data",
     "data": {
      "application/vnd.databricks.v1+bamboolib_hint": "{\"pd.DataFrames\": [], \"version\": \"0.0.1\"}",
      "text/plain": []
     },
     "metadata": {},
     "output_type": "display_data"
    }
   ],
   "source": [
    "import pandas as pd\n",
    "import numpy as np\n",
    "import matplotlib.pyplot as plt\n",
    "import seaborn as sns\n",
    "pd.set_option('display.max_columns', None)"
   ]
  },
  {
   "cell_type": "code",
   "execution_count": 0,
   "metadata": {
    "application/vnd.databricks.v1+cell": {
     "cellMetadata": {
      "byteLimit": 2048000,
      "rowLimit": 10000
     },
     "inputWidgets": {},
     "nuid": "c0e59a43-35f1-4c80-8102-c499cac44a58",
     "showTitle": false,
     "title": ""
    }
   },
   "outputs": [],
   "source": [
    "# Load the dataset into a pandas dataframe \n",
    "ledger = spark.read.format('csv') \\\n",
    "    .option(\"header\", \"true\") \\\n",
    "    .option(\"inferSchema\", \"true\") \\\n",
    "    .load(\"/FileStore/tables/ledger_fy22_qtr1-1.csv\")\n",
    "\n",
    "ledger = ledger.toPandas()"
   ]
  },
  {
   "cell_type": "code",
   "execution_count": 0,
   "metadata": {
    "application/vnd.databricks.v1+cell": {
     "cellMetadata": {
      "byteLimit": 2048000,
      "rowLimit": 10000
     },
     "inputWidgets": {},
     "nuid": "436cb359-f85e-4985-a0f5-d3277fd09661",
     "showTitle": false,
     "title": ""
    }
   },
   "outputs": [],
   "source": [
    "# Columns with some missing values: PROJECT_ID, CHARTFIELD2, CHARTFIELD1, PRODUCT, OPERATING_UNIT\n",
    "# Columns with no values whatsoever: OPERUNITDESCR, PRODUCTDESCR, PGMDESCR, CF1DESCR, CF2DESCR, PROJDESCR, ACTIVITY, ACTVDESCR, RESTYPE, RESDESCR, RCAT, RCATDESCR, RSUBCAT, RSUBCATDESCR\n",
    "\n",
    "\n",
    "# Dropping all the columns that have no values \n",
    "filter_ledger = ledger.drop(columns=['OPERUNITDESCR', 'PRODUCTDESCR', 'PGMDESCR', 'CF1DESCR', 'CF2DESCR', 'PROJDESCR', 'ACTIVITY', 'ACTVDESCR', 'RESTYPE', 'RESDESCR', 'RCAT', 'RCATDESCR', 'RSUBCAT', 'RSUBCATDESCR'])"
   ]
  },
  {
   "cell_type": "code",
   "execution_count": 0,
   "metadata": {
    "application/vnd.databricks.v1+cell": {
     "cellMetadata": {
      "byteLimit": 2048000,
      "rowLimit": 10000
     },
     "inputWidgets": {},
     "nuid": "6a266c70-1c88-4583-9cc7-d3b9169ed359",
     "showTitle": false,
     "title": ""
    }
   },
   "outputs": [
    {
     "output_type": "execute_result",
     "data": {
      "text/html": [
       "<div>\n",
       "<style scoped>\n",
       "    .dataframe tbody tr th:only-of-type {\n",
       "        vertical-align: middle;\n",
       "    }\n",
       "\n",
       "    .dataframe tbody tr th {\n",
       "        vertical-align: top;\n",
       "    }\n",
       "\n",
       "    .dataframe thead th {\n",
       "        text-align: right;\n",
       "    }\n",
       "</style>\n",
       "<table border=\"1\" class=\"dataframe\">\n",
       "  <thead>\n",
       "    <tr style=\"text-align: right;\">\n",
       "      <th></th>\n",
       "      <th>AGENCYNBR</th>\n",
       "      <th>AGENCYNAME</th>\n",
       "      <th>LEDGER</th>\n",
       "      <th>FISCAL_YEAR</th>\n",
       "      <th>ACCOUNTING_PERIOD</th>\n",
       "      <th>FUND_CODE</th>\n",
       "      <th>FUNDDESCR</th>\n",
       "      <th>CLASS_FLD</th>\n",
       "      <th>CLASSDESCR</th>\n",
       "      <th>DEPTID</th>\n",
       "      <th>DEPTDESCR</th>\n",
       "      <th>ACCOUNT</th>\n",
       "      <th>ACCTDESCR</th>\n",
       "      <th>OPERATING_UNIT</th>\n",
       "      <th>PRODUCT</th>\n",
       "      <th>PROGRAM_CODE</th>\n",
       "      <th>BUDGET_REF</th>\n",
       "      <th>CHARTFIELD1</th>\n",
       "      <th>CHARTFIELD2</th>\n",
       "      <th>PROJECT_ID</th>\n",
       "      <th>POSTED_TOTAL_AMT</th>\n",
       "      <th>ROWID</th>\n",
       "    </tr>\n",
       "  </thead>\n",
       "  <tbody>\n",
       "    <tr>\n",
       "      <th>0</th>\n",
       "      <td>0</td>\n",
       "      <td>STATE OF OKLAHOMA</td>\n",
       "      <td>ACTUALS</td>\n",
       "      <td>2022.0</td>\n",
       "      <td>1.0</td>\n",
       "      <td>1000</td>\n",
       "      <td>General Fund - No Divisions</td>\n",
       "      <td>19100</td>\n",
       "      <td>General Revenue Fund</td>\n",
       "      <td>7999999</td>\n",
       "      <td>Clearing and ASA Department</td>\n",
       "      <td>412175</td>\n",
       "      <td>Business Activity Tax</td>\n",
       "      <td></td>\n",
       "      <td></td>\n",
       "      <td>NP000</td>\n",
       "      <td></td>\n",
       "      <td></td>\n",
       "      <td></td>\n",
       "      <td></td>\n",
       "      <td>-256.12</td>\n",
       "      <td>AAJsAKAIoAABFPGAAH</td>\n",
       "    </tr>\n",
       "    <tr>\n",
       "      <th>1</th>\n",
       "      <td>0</td>\n",
       "      <td>STATE OF OKLAHOMA</td>\n",
       "      <td>ACTUALS</td>\n",
       "      <td>2022.0</td>\n",
       "      <td>1.0</td>\n",
       "      <td>1000</td>\n",
       "      <td>General Fund - No Divisions</td>\n",
       "      <td>19100</td>\n",
       "      <td>General Revenue Fund</td>\n",
       "      <td>7999999</td>\n",
       "      <td>Clearing and ASA Department</td>\n",
       "      <td>415181</td>\n",
       "      <td>Vehicle Revenue Tax Stamps</td>\n",
       "      <td></td>\n",
       "      <td></td>\n",
       "      <td>NP000</td>\n",
       "      <td></td>\n",
       "      <td></td>\n",
       "      <td></td>\n",
       "      <td></td>\n",
       "      <td>-4917.17</td>\n",
       "      <td>AAJsAKAIoAABFPGAAM</td>\n",
       "    </tr>\n",
       "    <tr>\n",
       "      <th>2</th>\n",
       "      <td>0</td>\n",
       "      <td>STATE OF OKLAHOMA</td>\n",
       "      <td>ACTUALS</td>\n",
       "      <td>2022.0</td>\n",
       "      <td>1.0</td>\n",
       "      <td>1000</td>\n",
       "      <td>General Fund - No Divisions</td>\n",
       "      <td>19100</td>\n",
       "      <td>General Revenue Fund</td>\n",
       "      <td>7999999</td>\n",
       "      <td>Clearing and ASA Department</td>\n",
       "      <td>417121</td>\n",
       "      <td>Documentary Stamp Tax</td>\n",
       "      <td></td>\n",
       "      <td></td>\n",
       "      <td>NP000</td>\n",
       "      <td></td>\n",
       "      <td></td>\n",
       "      <td></td>\n",
       "      <td></td>\n",
       "      <td>-1625395.47</td>\n",
       "      <td>AAJsAKAIoAABFPGAAS</td>\n",
       "    </tr>\n",
       "    <tr>\n",
       "      <th>3</th>\n",
       "      <td>0</td>\n",
       "      <td>STATE OF OKLAHOMA</td>\n",
       "      <td>ACTUALS</td>\n",
       "      <td>2022.0</td>\n",
       "      <td>1.0</td>\n",
       "      <td>1000</td>\n",
       "      <td>General Fund - No Divisions</td>\n",
       "      <td>16100</td>\n",
       "      <td>Alcoholic Beverage Control Fd</td>\n",
       "      <td>7999999</td>\n",
       "      <td>Clearing and ASA Department</td>\n",
       "      <td>420121</td>\n",
       "      <td>Alcoholic Beverage License</td>\n",
       "      <td></td>\n",
       "      <td></td>\n",
       "      <td>B0100</td>\n",
       "      <td>21</td>\n",
       "      <td></td>\n",
       "      <td></td>\n",
       "      <td></td>\n",
       "      <td>-965194.00</td>\n",
       "      <td>AAJsAKAIoAABFcxAAa</td>\n",
       "    </tr>\n",
       "    <tr>\n",
       "      <th>4</th>\n",
       "      <td>0</td>\n",
       "      <td>STATE OF OKLAHOMA</td>\n",
       "      <td>ACTUALS</td>\n",
       "      <td>2022.0</td>\n",
       "      <td>1.0</td>\n",
       "      <td>1000</td>\n",
       "      <td>General Fund - No Divisions</td>\n",
       "      <td>19200</td>\n",
       "      <td>General Revenue Fund</td>\n",
       "      <td>7999999</td>\n",
       "      <td>Clearing and ASA Department</td>\n",
       "      <td>421381</td>\n",
       "      <td>Securities Agents Fees</td>\n",
       "      <td></td>\n",
       "      <td></td>\n",
       "      <td>B0100</td>\n",
       "      <td>22</td>\n",
       "      <td></td>\n",
       "      <td></td>\n",
       "      <td></td>\n",
       "      <td>-60750.00</td>\n",
       "      <td>AAJsAKAHlAAMHLRAAt</td>\n",
       "    </tr>\n",
       "  </tbody>\n",
       "</table>\n",
       "</div>"
      ],
      "text/plain": [
       "   AGENCYNBR         AGENCYNAME   LEDGER  FISCAL_YEAR  ACCOUNTING_PERIOD  \\\n",
       "0          0  STATE OF OKLAHOMA  ACTUALS       2022.0                1.0   \n",
       "1          0  STATE OF OKLAHOMA  ACTUALS       2022.0                1.0   \n",
       "2          0  STATE OF OKLAHOMA  ACTUALS       2022.0                1.0   \n",
       "3          0  STATE OF OKLAHOMA  ACTUALS       2022.0                1.0   \n",
       "4          0  STATE OF OKLAHOMA  ACTUALS       2022.0                1.0   \n",
       "\n",
       "   FUND_CODE                    FUNDDESCR CLASS_FLD  \\\n",
       "0       1000  General Fund - No Divisions     19100   \n",
       "1       1000  General Fund - No Divisions     19100   \n",
       "2       1000  General Fund - No Divisions     19100   \n",
       "3       1000  General Fund - No Divisions     16100   \n",
       "4       1000  General Fund - No Divisions     19200   \n",
       "\n",
       "                      CLASSDESCR   DEPTID                    DEPTDESCR  \\\n",
       "0           General Revenue Fund  7999999  Clearing and ASA Department   \n",
       "1           General Revenue Fund  7999999  Clearing and ASA Department   \n",
       "2           General Revenue Fund  7999999  Clearing and ASA Department   \n",
       "3  Alcoholic Beverage Control Fd  7999999  Clearing and ASA Department   \n",
       "4           General Revenue Fund  7999999  Clearing and ASA Department   \n",
       "\n",
       "   ACCOUNT                   ACCTDESCR OPERATING_UNIT PRODUCT PROGRAM_CODE  \\\n",
       "0   412175       Business Activity Tax                               NP000   \n",
       "1   415181  Vehicle Revenue Tax Stamps                               NP000   \n",
       "2   417121       Documentary Stamp Tax                               NP000   \n",
       "3   420121  Alcoholic Beverage License                               B0100   \n",
       "4   421381      Securities Agents Fees                               B0100   \n",
       "\n",
       "  BUDGET_REF CHARTFIELD1 CHARTFIELD2 PROJECT_ID  POSTED_TOTAL_AMT  \\\n",
       "0                                                         -256.12   \n",
       "1                                                        -4917.17   \n",
       "2                                                     -1625395.47   \n",
       "3         21                                           -965194.00   \n",
       "4         22                                            -60750.00   \n",
       "\n",
       "                ROWID  \n",
       "0  AAJsAKAIoAABFPGAAH  \n",
       "1  AAJsAKAIoAABFPGAAM  \n",
       "2  AAJsAKAIoAABFPGAAS  \n",
       "3  AAJsAKAIoAABFcxAAa  \n",
       "4  AAJsAKAHlAAMHLRAAt  "
      ]
     },
     "execution_count": 4,
     "metadata": {},
     "output_type": "execute_result"
    }
   ],
   "source": [
    "# Columns in filter_ledger that have some empty values: OPERATINGUNIT, PRODUCT, BUDGET_RED, CHARTFIELD01, CHARTFIELD02, PROJECT_ID \n",
    "filter_ledger[0:5] "
   ]
  },
  {
   "cell_type": "code",
   "execution_count": 0,
   "metadata": {
    "application/vnd.databricks.v1+cell": {
     "cellMetadata": {
      "byteLimit": 2048000,
      "rowLimit": 10000
     },
     "inputWidgets": {},
     "nuid": "22ff1b82-b1cb-4b2c-8b07-2eddff783751",
     "showTitle": false,
     "title": ""
    }
   },
   "outputs": [
    {
     "output_type": "execute_result",
     "data": {
      "text/plain": [
       "array(['STATE OF OKLAHOMA', 'OKLAHOMA STATE UNIVERSITY',\n",
       "       'OSU-EXPERIMENT STATION', 'OSU-EXTENSION DIVISION',\n",
       "       'OSU-TECHNICAL BRANCH, OKMULGEE',\n",
       "       'OSU COLLEGE OF VETERINARY MEDICINE', 'OSU-OKLAHOMA CITY',\n",
       "       'OSU-TULSA', 'OKLAHOMA ACCOUNTANCY BOARD',\n",
       "       'OKLAHOMA ABSTRACTORS BOARD', 'OKLAHOMA MILITARY DEPARTMENT',\n",
       "       'ALCOHOLIC BEV. LAWS ENFORCE.', 'BOLL WEEVIL ERADICATION ORG.',\n",
       "       'DEPT OF AGRICULTURE FOOD & FORESTRY',\n",
       "       'WESTERN OKLA. STATE COLLEGE', 'OKLA. BD. OF ARCHITECTS',\n",
       "       'INDIGENT DEFENSE SYSTEM', 'ATTORNEY GENERAL',\n",
       "       'STATE ARTS COUNCIL', 'OKLAHOMA AERONAUTICS COMMISSION',\n",
       "       'STATE BANKING DEPARTMENT',\n",
       "       'OFFICE OF MANAGEMENT AND ENTERPRISE SERV',\n",
       "       'TOBACCO SETTLEMENT ENDMT TRUST', 'CAMERON UNIVERSITY',\n",
       "       'CAPITOL IMPROVEMENT AUTHORITY', 'CARL ALBERT STATE COLLEGE',\n",
       "       'UNIV. OF CENTRAL OKLA.', 'DEPARTMENT OF MINES',\n",
       "       'COMMISSION ON CHILDREN AND YOUTH', 'DEPARTMENT OF CORRECTIONS',\n",
       "       'ST. BD. OF PODIATRIC MED. EXAM.', 'ST. BD. OF CHIROPRACTIC EXAM.',\n",
       "       'BOARD OF BEHAVIORAL HEALTH LICENSURE',\n",
       "       'UNIV.OF SCIENCE & ARTS OF OK', 'DEPARTMENT OF COMMERCE',\n",
       "       'CONNORS STATE COLLEGE', 'CONSTRUCTION INDUSTRIES BOARD',\n",
       "       'CORPORATION COMMISSION', 'ST BD OF COSMETOLOGY AND BARBERING',\n",
       "       'COURT OF CRIMINAL APPEALS', 'J. M. DAVIS ARMS & HIST. MUSEUM',\n",
       "       'OKLAHOMA ST.BOARD OF DENTISTRY', 'DISTRICT COURTS',\n",
       "       'DISTRICT ATTORNEYS COUNCIL', 'EAST CENTRAL UNIVERSITY',\n",
       "       'EASTERN OKLA. STATE COLLEGE', 'REDLANDS COMMUNITY COLLEGE',\n",
       "       'DEPARTMENT OF EDUCATION', 'OKLA. EDUC. TELEVISION AUTH.',\n",
       "       'STATE ELECTION BOARD', 'OFFICE OF EDUC. QUALITY & ACCOUNTABILITY',\n",
       "       'OKLAHOMA FUNERAL BOARD', 'EMPLOYMENT SECURITY COMMISSION',\n",
       "       'DEPT. OF ENVIRONMENTAL QUALITY', 'ETHICS COMMISSION',\n",
       "       'MERIT PROTECTION COMMISSION', 'STATE AUDITOR AND INSPECTOR',\n",
       "       'GOVERNOR', 'PARDON AND PAROLE BOARD',\n",
       "       'INTERSTATE OIL COMPACT COMM.', 'STATE BUREAU OF INVESTIGATION',\n",
       "       'DEPARTMENT OF EMERGENCY MANAGEMENT', 'STATE FIRE MARSHAL',\n",
       "       'FIREFIGHTERS PENS. & RET. SYST.',\n",
       "       'DEPARTMENT OF WILDLIFE CONSERVATION',\n",
       "       'OFFICE OF DISABILITY CONCERNS',\n",
       "       'OKLAHOMA STATE DEPARTMENT OF HEALTH',\n",
       "       'OFFICE OF THE CHIEF MEDICAL EXAMINER',\n",
       "       'ST. BD. OF EXAMINERS OF PERFUSIONISTS',\n",
       "       'DEPARTMENT OF TRANSPORTATION', 'OKLA. SPACE INDUSTRY DEV. AUTH.',\n",
       "       'HISTORICAL SOCIETY', 'OKLA. HORSE RACING COMM.',\n",
       "       'ENERGY RESOURCES BOARD', 'NATIVE AMER.CULTURAL & EDUC. AUTH-OK.',\n",
       "       'WORKERS COMP COURT OF EXISTING CLAIMS',\n",
       "       'OK. INDUSTRIAL FINANCE AUTH.', 'OKLAHOMA INSURANCE DEPARTMENT',\n",
       "       'MULTIPLE INJURY TRUST FUND', 'OFFICE OF JUVENILE AFFAIRS',\n",
       "       'DEPARTMENT OF LABOR', 'COMM. OF THE LAND OFFICE',\n",
       "       'COUNCIL ON LAW ENFC. ED. & TRNG.', 'OK. LAW ENFORCE. RET. SYSTEM',\n",
       "       'LANGSTON UNIVERSITY', 'OKLAHOMA STATE SENATE',\n",
       "       'OK. HOUSE OF REPRESENTATIVES', 'LEGISLATIVE SERVICE BUREAU',\n",
       "       'DEPARTMENT OF LIBRARIES', 'OKLAHOMA LOTTERY COMMISSION',\n",
       "       'OFFICE OF LIEUTENANT GOVERNOR', 'LIQUEFIED PETROLEUM GAS BD',\n",
       "       'BD OF LIC ALCOHOL & DRUG COUNS', 'BD. OF MED. LICENSURE & SUPV.',\n",
       "       'MENTAL HEALTH AND SUBSTANCE ABUSE SERV.',\n",
       "       'ROGERS STATE UNIVERSITY', 'MURRAY STATE COLLEGE',\n",
       "       'OKLA. MOTOR VEHICLE COMM.',\n",
       "       'OKLA. BUREAU OF NARCOTICS AND DANGEROUS',\n",
       "       'N. E. OKLA. A & M COLLEGE', 'NORTHEASTERN STATE UNIVERSITY',\n",
       "       'NORTHERN OKLAHOMA COLLEGE', 'NORTHWESTERN OKLA. STATE UNIVERSITY',\n",
       "       'BD. OF EXAM. FOR LT CARE ADMIN.', 'OKLA. BOARD OF NURSING',\n",
       "       'OK. PUBLIC EMPLOYEES RET. SYS.', 'ST. & EDUC. EMP. GRP. INS. BD.',\n",
       "       'BOARD OF EXAMINERS IN OPTOMETRY',\n",
       "       'STATE BD. OF OSTEOPATHIC EXAM.', 'OKLA. PANHANDLE STATE UNIV.',\n",
       "       'ROSE STATE COLEGE', 'POLICE PENSION & RET. SYSTEM',\n",
       "       'STATE PHARMACY BOARD', 'BD. OF PRIV. VOCATIONAL SCHOOLS',\n",
       "       'DEPARTMENT OF TOURISM AND RECREATION',\n",
       "       'PROF. ENGI. & LAND SURVEYORS', 'BD. OF PSYCHOLOGISTS EXAMINERS',\n",
       "       'DCAM-OMES', 'DEPARTMENT OF PUBLIC SAFETY',\n",
       "       'OKLAHOMA REAL ESTATE COMM.', 'REGENTS FOR HIGHER EDUCATION',\n",
       "       'UNIVERSITY CENTER OF SOUTHERN OKLAHOMA',\n",
       "       'REGIONAL UNIVERSITY SYSTEM OF OKLAHOMA',\n",
       "       'PHYSICIAN MANPOWER TRNG. COMM.',\n",
       "       'OK. ST. BD. OF LIC. SOCIAL WORKERS', 'SEMINOLE STATE COLLEGE',\n",
       "       'SECRETARY OF STATE', 'CNTR. FOR ADVANC. OF SCIENCE/TECHNOLOGY',\n",
       "       'OK. SCHOOL OF SCIENCE & MATH.', 'DEPARTMENT OF SECURITIES',\n",
       "       'SPEECH-LANGUAGE PATHOLOGY & AUDIOLOGY',\n",
       "       'OKLA. CITY COMMUNITY COLLEGE', 'COMM. ON CONSUMER CREDIT',\n",
       "       'CONSERVATION COMMISSION', 'DEPARTMENT OF VETERANS AFFAIRS',\n",
       "       'S. E. OKLA. ST. UNIV.', 'S. W. OKLA. ST. UNIV.',\n",
       "       'J.D. MCCARTY CENTER', 'SELF-INSURANCE GUARANTY FUND BOARD',\n",
       "       'SUPREME COURT', 'COUNCIL ON JUDICIAL COMPLAINTS',\n",
       "       'OKLAHOMA TAX COMMISSION', 'TEACHERS RETIREMENT SYSTEM',\n",
       "       'STATE TREASURER', 'TULSA COMMUNITY COLLEGE',\n",
       "       'UNIFORM BUILDING CODE COMMISSION', 'USED MOTOR VEHICLE & PARTS',\n",
       "       'UNIVERSITY CENTER AT PONCA CITY', 'UNIVERSITY OF OKLAHOMA',\n",
       "       'UNIV. OF OKLA. LAW CENTER',\n",
       "       'UNIV. OF OKLA. HEALTH SCIENCES CENTER',\n",
       "       'BD. OF CHEM. TEST ALCOHOL/DRUG',\n",
       "       'OSU-COLLEGE OF OSTEOPATHIC MED.', 'BD. OF VETERINARY MED. EXAM.',\n",
       "       'OKLA. CAREER AND TECHNOLOGY EDUCATION',\n",
       "       'ST.WIDE VIRTUAL CHARTER SCHOOL BOARD',\n",
       "       'DEPARTMENT OF REHABILITATION SERVICES', 'HEALTH CARE AUTHORITY',\n",
       "       'EMPLOYEES BENEFITS DEPARTMENT', 'UNIV. HOSPITALS AUTHORITY',\n",
       "       'DEPARTMENT OF HUMAN SERVICES', 'WATER RESOURCES BOARD',\n",
       "       \"WORKER'S COMP. COMMISSION\", 'DEVELOPMENT FINANCE AUTHORITY',\n",
       "       'OKLAHOMA TURNPIKE AUTHORITY', 'OUHSC PROF. PRAC. PLAN.',\n",
       "       'QUARTZ MOUNTAIN CENTER & PARK', 'OSU MEDICAL AUTHORITY',\n",
       "       'BUILDING BONDS COMMISSION', 'OU TULSA'], dtype=object)"
      ]
     },
     "execution_count": 5,
     "metadata": {},
     "output_type": "execute_result"
    }
   ],
   "source": [
    "# All the unique AGENCIES in the transactions \n",
    "filter_ledger['AGENCYNAME'].unique()"
   ]
  },
  {
   "cell_type": "code",
   "execution_count": 0,
   "metadata": {
    "application/vnd.databricks.v1+cell": {
     "cellMetadata": {
      "byteLimit": 2048000,
      "rowLimit": 10000
     },
     "inputWidgets": {},
     "nuid": "a94a20ee-e019-4690-94bd-25db906a94ad",
     "showTitle": false,
     "title": ""
    }
   },
   "outputs": [],
   "source": [
    "# We know that it's an actuals ledger that was produced in 2022 fiscal year, so don't need that information\n",
    "filter_ledger = filter_ledger.drop([\"LEDGER\", \"FISCAL_YEAR\"], axis=1)"
   ]
  },
  {
   "cell_type": "code",
   "execution_count": 0,
   "metadata": {
    "application/vnd.databricks.v1+cell": {
     "cellMetadata": {
      "byteLimit": 2048000,
      "rowLimit": 10000
     },
     "inputWidgets": {},
     "nuid": "638f7df2-1ab9-4907-be20-4a01ab09005b",
     "showTitle": false,
     "title": ""
    }
   },
   "outputs": [
    {
     "output_type": "execute_result",
     "data": {
      "text/html": [
       "<div>\n",
       "<style scoped>\n",
       "    .dataframe tbody tr th:only-of-type {\n",
       "        vertical-align: middle;\n",
       "    }\n",
       "\n",
       "    .dataframe tbody tr th {\n",
       "        vertical-align: top;\n",
       "    }\n",
       "\n",
       "    .dataframe thead th {\n",
       "        text-align: right;\n",
       "    }\n",
       "</style>\n",
       "<table border=\"1\" class=\"dataframe\">\n",
       "  <thead>\n",
       "    <tr style=\"text-align: right;\">\n",
       "      <th></th>\n",
       "      <th>AGENCYNBR</th>\n",
       "      <th>AGENCYNAME</th>\n",
       "      <th>ACCOUNTING_PERIOD</th>\n",
       "      <th>FUND_CODE</th>\n",
       "      <th>FUNDDESCR</th>\n",
       "      <th>CLASS_FLD</th>\n",
       "      <th>CLASSDESCR</th>\n",
       "      <th>DEPTID</th>\n",
       "      <th>DEPTDESCR</th>\n",
       "      <th>ACCOUNT</th>\n",
       "      <th>ACCTDESCR</th>\n",
       "      <th>OPERATING_UNIT</th>\n",
       "      <th>PRODUCT</th>\n",
       "      <th>PROGRAM_CODE</th>\n",
       "      <th>BUDGET_REF</th>\n",
       "      <th>CHARTFIELD1</th>\n",
       "      <th>CHARTFIELD2</th>\n",
       "      <th>PROJECT_ID</th>\n",
       "      <th>POSTED_TOTAL_AMT</th>\n",
       "      <th>ROWID</th>\n",
       "    </tr>\n",
       "  </thead>\n",
       "  <tbody>\n",
       "    <tr>\n",
       "      <th>0</th>\n",
       "      <td>0</td>\n",
       "      <td>STATE OF OKLAHOMA</td>\n",
       "      <td>1.0</td>\n",
       "      <td>1000</td>\n",
       "      <td>General Fund - No Divisions</td>\n",
       "      <td>19100</td>\n",
       "      <td>General Revenue Fund</td>\n",
       "      <td>7999999</td>\n",
       "      <td>Clearing and ASA Department</td>\n",
       "      <td>412175</td>\n",
       "      <td>Business Activity Tax</td>\n",
       "      <td></td>\n",
       "      <td></td>\n",
       "      <td>NP000</td>\n",
       "      <td></td>\n",
       "      <td></td>\n",
       "      <td></td>\n",
       "      <td></td>\n",
       "      <td>-256.12</td>\n",
       "      <td>AAJsAKAIoAABFPGAAH</td>\n",
       "    </tr>\n",
       "    <tr>\n",
       "      <th>1</th>\n",
       "      <td>0</td>\n",
       "      <td>STATE OF OKLAHOMA</td>\n",
       "      <td>1.0</td>\n",
       "      <td>1000</td>\n",
       "      <td>General Fund - No Divisions</td>\n",
       "      <td>19100</td>\n",
       "      <td>General Revenue Fund</td>\n",
       "      <td>7999999</td>\n",
       "      <td>Clearing and ASA Department</td>\n",
       "      <td>415181</td>\n",
       "      <td>Vehicle Revenue Tax Stamps</td>\n",
       "      <td></td>\n",
       "      <td></td>\n",
       "      <td>NP000</td>\n",
       "      <td></td>\n",
       "      <td></td>\n",
       "      <td></td>\n",
       "      <td></td>\n",
       "      <td>-4917.17</td>\n",
       "      <td>AAJsAKAIoAABFPGAAM</td>\n",
       "    </tr>\n",
       "    <tr>\n",
       "      <th>2</th>\n",
       "      <td>0</td>\n",
       "      <td>STATE OF OKLAHOMA</td>\n",
       "      <td>1.0</td>\n",
       "      <td>1000</td>\n",
       "      <td>General Fund - No Divisions</td>\n",
       "      <td>19100</td>\n",
       "      <td>General Revenue Fund</td>\n",
       "      <td>7999999</td>\n",
       "      <td>Clearing and ASA Department</td>\n",
       "      <td>417121</td>\n",
       "      <td>Documentary Stamp Tax</td>\n",
       "      <td></td>\n",
       "      <td></td>\n",
       "      <td>NP000</td>\n",
       "      <td></td>\n",
       "      <td></td>\n",
       "      <td></td>\n",
       "      <td></td>\n",
       "      <td>-1625395.47</td>\n",
       "      <td>AAJsAKAIoAABFPGAAS</td>\n",
       "    </tr>\n",
       "    <tr>\n",
       "      <th>3</th>\n",
       "      <td>0</td>\n",
       "      <td>STATE OF OKLAHOMA</td>\n",
       "      <td>1.0</td>\n",
       "      <td>1000</td>\n",
       "      <td>General Fund - No Divisions</td>\n",
       "      <td>16100</td>\n",
       "      <td>Alcoholic Beverage Control Fd</td>\n",
       "      <td>7999999</td>\n",
       "      <td>Clearing and ASA Department</td>\n",
       "      <td>420121</td>\n",
       "      <td>Alcoholic Beverage License</td>\n",
       "      <td></td>\n",
       "      <td></td>\n",
       "      <td>B0100</td>\n",
       "      <td>21</td>\n",
       "      <td></td>\n",
       "      <td></td>\n",
       "      <td></td>\n",
       "      <td>-965194.00</td>\n",
       "      <td>AAJsAKAIoAABFcxAAa</td>\n",
       "    </tr>\n",
       "    <tr>\n",
       "      <th>4</th>\n",
       "      <td>0</td>\n",
       "      <td>STATE OF OKLAHOMA</td>\n",
       "      <td>1.0</td>\n",
       "      <td>1000</td>\n",
       "      <td>General Fund - No Divisions</td>\n",
       "      <td>19200</td>\n",
       "      <td>General Revenue Fund</td>\n",
       "      <td>7999999</td>\n",
       "      <td>Clearing and ASA Department</td>\n",
       "      <td>421381</td>\n",
       "      <td>Securities Agents Fees</td>\n",
       "      <td></td>\n",
       "      <td></td>\n",
       "      <td>B0100</td>\n",
       "      <td>22</td>\n",
       "      <td></td>\n",
       "      <td></td>\n",
       "      <td></td>\n",
       "      <td>-60750.00</td>\n",
       "      <td>AAJsAKAHlAAMHLRAAt</td>\n",
       "    </tr>\n",
       "  </tbody>\n",
       "</table>\n",
       "</div>"
      ],
      "text/plain": [
       "   AGENCYNBR         AGENCYNAME  ACCOUNTING_PERIOD  FUND_CODE  \\\n",
       "0          0  STATE OF OKLAHOMA                1.0       1000   \n",
       "1          0  STATE OF OKLAHOMA                1.0       1000   \n",
       "2          0  STATE OF OKLAHOMA                1.0       1000   \n",
       "3          0  STATE OF OKLAHOMA                1.0       1000   \n",
       "4          0  STATE OF OKLAHOMA                1.0       1000   \n",
       "\n",
       "                     FUNDDESCR CLASS_FLD                     CLASSDESCR  \\\n",
       "0  General Fund - No Divisions     19100           General Revenue Fund   \n",
       "1  General Fund - No Divisions     19100           General Revenue Fund   \n",
       "2  General Fund - No Divisions     19100           General Revenue Fund   \n",
       "3  General Fund - No Divisions     16100  Alcoholic Beverage Control Fd   \n",
       "4  General Fund - No Divisions     19200           General Revenue Fund   \n",
       "\n",
       "    DEPTID                    DEPTDESCR  ACCOUNT                   ACCTDESCR  \\\n",
       "0  7999999  Clearing and ASA Department   412175       Business Activity Tax   \n",
       "1  7999999  Clearing and ASA Department   415181  Vehicle Revenue Tax Stamps   \n",
       "2  7999999  Clearing and ASA Department   417121       Documentary Stamp Tax   \n",
       "3  7999999  Clearing and ASA Department   420121  Alcoholic Beverage License   \n",
       "4  7999999  Clearing and ASA Department   421381      Securities Agents Fees   \n",
       "\n",
       "  OPERATING_UNIT PRODUCT PROGRAM_CODE BUDGET_REF CHARTFIELD1 CHARTFIELD2  \\\n",
       "0                               NP000                                      \n",
       "1                               NP000                                      \n",
       "2                               NP000                                      \n",
       "3                               B0100         21                           \n",
       "4                               B0100         22                           \n",
       "\n",
       "  PROJECT_ID  POSTED_TOTAL_AMT               ROWID  \n",
       "0                      -256.12  AAJsAKAIoAABFPGAAH  \n",
       "1                     -4917.17  AAJsAKAIoAABFPGAAM  \n",
       "2                  -1625395.47  AAJsAKAIoAABFPGAAS  \n",
       "3                   -965194.00  AAJsAKAIoAABFcxAAa  \n",
       "4                    -60750.00  AAJsAKAHlAAMHLRAAt  "
      ]
     },
     "execution_count": 7,
     "metadata": {},
     "output_type": "execute_result"
    }
   ],
   "source": [
    "filter_ledger.head(5)"
   ]
  },
  {
   "cell_type": "code",
   "execution_count": 0,
   "metadata": {
    "application/vnd.databricks.v1+cell": {
     "cellMetadata": {
      "byteLimit": 2048000,
      "rowLimit": 10000
     },
     "inputWidgets": {},
     "nuid": "a2bd622f-faf1-478f-8b8f-7027b513f3e4",
     "showTitle": false,
     "title": ""
    }
   },
   "outputs": [],
   "source": [
    "# Filling all the ' ' values by 'UNKNOWN'\n",
    "filter_ledger = filter_ledger.replace({' ': 'UNKNOWN'})"
   ]
  },
  {
   "cell_type": "code",
   "execution_count": 0,
   "metadata": {
    "application/vnd.databricks.v1+cell": {
     "cellMetadata": {
      "byteLimit": 2048000,
      "rowLimit": 10000
     },
     "inputWidgets": {},
     "nuid": "28126103-f349-4f11-a449-6baffe801b20",
     "showTitle": false,
     "title": ""
    }
   },
   "outputs": [
    {
     "output_type": "execute_result",
     "data": {
      "text/html": [
       "<div>\n",
       "<style scoped>\n",
       "    .dataframe tbody tr th:only-of-type {\n",
       "        vertical-align: middle;\n",
       "    }\n",
       "\n",
       "    .dataframe tbody tr th {\n",
       "        vertical-align: top;\n",
       "    }\n",
       "\n",
       "    .dataframe thead th {\n",
       "        text-align: right;\n",
       "    }\n",
       "</style>\n",
       "<table border=\"1\" class=\"dataframe\">\n",
       "  <thead>\n",
       "    <tr style=\"text-align: right;\">\n",
       "      <th></th>\n",
       "      <th>AGENCYNBR</th>\n",
       "      <th>AGENCYNAME</th>\n",
       "      <th>ACCOUNTING_PERIOD</th>\n",
       "      <th>FUND_CODE</th>\n",
       "      <th>FUNDDESCR</th>\n",
       "      <th>CLASS_FLD</th>\n",
       "      <th>CLASSDESCR</th>\n",
       "      <th>DEPTID</th>\n",
       "      <th>DEPTDESCR</th>\n",
       "      <th>ACCOUNT</th>\n",
       "      <th>ACCTDESCR</th>\n",
       "      <th>OPERATING_UNIT</th>\n",
       "      <th>PRODUCT</th>\n",
       "      <th>PROGRAM_CODE</th>\n",
       "      <th>BUDGET_REF</th>\n",
       "      <th>CHARTFIELD1</th>\n",
       "      <th>CHARTFIELD2</th>\n",
       "      <th>PROJECT_ID</th>\n",
       "      <th>POSTED_TOTAL_AMT</th>\n",
       "      <th>ROWID</th>\n",
       "    </tr>\n",
       "  </thead>\n",
       "  <tbody>\n",
       "    <tr>\n",
       "      <th>0</th>\n",
       "      <td>0</td>\n",
       "      <td>STATE OF OKLAHOMA</td>\n",
       "      <td>1.0</td>\n",
       "      <td>1000</td>\n",
       "      <td>General Fund - No Divisions</td>\n",
       "      <td>19100</td>\n",
       "      <td>General Revenue Fund</td>\n",
       "      <td>7999999</td>\n",
       "      <td>Clearing and ASA Department</td>\n",
       "      <td>412175</td>\n",
       "      <td>Business Activity Tax</td>\n",
       "      <td>UNKNOWN</td>\n",
       "      <td>UNKNOWN</td>\n",
       "      <td>NP000</td>\n",
       "      <td>UNKNOWN</td>\n",
       "      <td>UNKNOWN</td>\n",
       "      <td>UNKNOWN</td>\n",
       "      <td>UNKNOWN</td>\n",
       "      <td>-256.12</td>\n",
       "      <td>AAJsAKAIoAABFPGAAH</td>\n",
       "    </tr>\n",
       "    <tr>\n",
       "      <th>1</th>\n",
       "      <td>0</td>\n",
       "      <td>STATE OF OKLAHOMA</td>\n",
       "      <td>1.0</td>\n",
       "      <td>1000</td>\n",
       "      <td>General Fund - No Divisions</td>\n",
       "      <td>19100</td>\n",
       "      <td>General Revenue Fund</td>\n",
       "      <td>7999999</td>\n",
       "      <td>Clearing and ASA Department</td>\n",
       "      <td>415181</td>\n",
       "      <td>Vehicle Revenue Tax Stamps</td>\n",
       "      <td>UNKNOWN</td>\n",
       "      <td>UNKNOWN</td>\n",
       "      <td>NP000</td>\n",
       "      <td>UNKNOWN</td>\n",
       "      <td>UNKNOWN</td>\n",
       "      <td>UNKNOWN</td>\n",
       "      <td>UNKNOWN</td>\n",
       "      <td>-4917.17</td>\n",
       "      <td>AAJsAKAIoAABFPGAAM</td>\n",
       "    </tr>\n",
       "    <tr>\n",
       "      <th>2</th>\n",
       "      <td>0</td>\n",
       "      <td>STATE OF OKLAHOMA</td>\n",
       "      <td>1.0</td>\n",
       "      <td>1000</td>\n",
       "      <td>General Fund - No Divisions</td>\n",
       "      <td>19100</td>\n",
       "      <td>General Revenue Fund</td>\n",
       "      <td>7999999</td>\n",
       "      <td>Clearing and ASA Department</td>\n",
       "      <td>417121</td>\n",
       "      <td>Documentary Stamp Tax</td>\n",
       "      <td>UNKNOWN</td>\n",
       "      <td>UNKNOWN</td>\n",
       "      <td>NP000</td>\n",
       "      <td>UNKNOWN</td>\n",
       "      <td>UNKNOWN</td>\n",
       "      <td>UNKNOWN</td>\n",
       "      <td>UNKNOWN</td>\n",
       "      <td>-1625395.47</td>\n",
       "      <td>AAJsAKAIoAABFPGAAS</td>\n",
       "    </tr>\n",
       "    <tr>\n",
       "      <th>3</th>\n",
       "      <td>0</td>\n",
       "      <td>STATE OF OKLAHOMA</td>\n",
       "      <td>1.0</td>\n",
       "      <td>1000</td>\n",
       "      <td>General Fund - No Divisions</td>\n",
       "      <td>16100</td>\n",
       "      <td>Alcoholic Beverage Control Fd</td>\n",
       "      <td>7999999</td>\n",
       "      <td>Clearing and ASA Department</td>\n",
       "      <td>420121</td>\n",
       "      <td>Alcoholic Beverage License</td>\n",
       "      <td>UNKNOWN</td>\n",
       "      <td>UNKNOWN</td>\n",
       "      <td>B0100</td>\n",
       "      <td>21</td>\n",
       "      <td>UNKNOWN</td>\n",
       "      <td>UNKNOWN</td>\n",
       "      <td>UNKNOWN</td>\n",
       "      <td>-965194.00</td>\n",
       "      <td>AAJsAKAIoAABFcxAAa</td>\n",
       "    </tr>\n",
       "    <tr>\n",
       "      <th>4</th>\n",
       "      <td>0</td>\n",
       "      <td>STATE OF OKLAHOMA</td>\n",
       "      <td>1.0</td>\n",
       "      <td>1000</td>\n",
       "      <td>General Fund - No Divisions</td>\n",
       "      <td>19200</td>\n",
       "      <td>General Revenue Fund</td>\n",
       "      <td>7999999</td>\n",
       "      <td>Clearing and ASA Department</td>\n",
       "      <td>421381</td>\n",
       "      <td>Securities Agents Fees</td>\n",
       "      <td>UNKNOWN</td>\n",
       "      <td>UNKNOWN</td>\n",
       "      <td>B0100</td>\n",
       "      <td>22</td>\n",
       "      <td>UNKNOWN</td>\n",
       "      <td>UNKNOWN</td>\n",
       "      <td>UNKNOWN</td>\n",
       "      <td>-60750.00</td>\n",
       "      <td>AAJsAKAHlAAMHLRAAt</td>\n",
       "    </tr>\n",
       "  </tbody>\n",
       "</table>\n",
       "</div>"
      ],
      "text/plain": [
       "   AGENCYNBR         AGENCYNAME  ACCOUNTING_PERIOD  FUND_CODE  \\\n",
       "0          0  STATE OF OKLAHOMA                1.0       1000   \n",
       "1          0  STATE OF OKLAHOMA                1.0       1000   \n",
       "2          0  STATE OF OKLAHOMA                1.0       1000   \n",
       "3          0  STATE OF OKLAHOMA                1.0       1000   \n",
       "4          0  STATE OF OKLAHOMA                1.0       1000   \n",
       "\n",
       "                     FUNDDESCR CLASS_FLD                     CLASSDESCR  \\\n",
       "0  General Fund - No Divisions     19100           General Revenue Fund   \n",
       "1  General Fund - No Divisions     19100           General Revenue Fund   \n",
       "2  General Fund - No Divisions     19100           General Revenue Fund   \n",
       "3  General Fund - No Divisions     16100  Alcoholic Beverage Control Fd   \n",
       "4  General Fund - No Divisions     19200           General Revenue Fund   \n",
       "\n",
       "    DEPTID                    DEPTDESCR  ACCOUNT                   ACCTDESCR  \\\n",
       "0  7999999  Clearing and ASA Department   412175       Business Activity Tax   \n",
       "1  7999999  Clearing and ASA Department   415181  Vehicle Revenue Tax Stamps   \n",
       "2  7999999  Clearing and ASA Department   417121       Documentary Stamp Tax   \n",
       "3  7999999  Clearing and ASA Department   420121  Alcoholic Beverage License   \n",
       "4  7999999  Clearing and ASA Department   421381      Securities Agents Fees   \n",
       "\n",
       "  OPERATING_UNIT  PRODUCT PROGRAM_CODE BUDGET_REF CHARTFIELD1 CHARTFIELD2  \\\n",
       "0        UNKNOWN  UNKNOWN        NP000    UNKNOWN     UNKNOWN     UNKNOWN   \n",
       "1        UNKNOWN  UNKNOWN        NP000    UNKNOWN     UNKNOWN     UNKNOWN   \n",
       "2        UNKNOWN  UNKNOWN        NP000    UNKNOWN     UNKNOWN     UNKNOWN   \n",
       "3        UNKNOWN  UNKNOWN        B0100         21     UNKNOWN     UNKNOWN   \n",
       "4        UNKNOWN  UNKNOWN        B0100         22     UNKNOWN     UNKNOWN   \n",
       "\n",
       "  PROJECT_ID  POSTED_TOTAL_AMT               ROWID  \n",
       "0    UNKNOWN           -256.12  AAJsAKAIoAABFPGAAH  \n",
       "1    UNKNOWN          -4917.17  AAJsAKAIoAABFPGAAM  \n",
       "2    UNKNOWN       -1625395.47  AAJsAKAIoAABFPGAAS  \n",
       "3    UNKNOWN        -965194.00  AAJsAKAIoAABFcxAAa  \n",
       "4    UNKNOWN         -60750.00  AAJsAKAHlAAMHLRAAt  "
      ]
     },
     "execution_count": 9,
     "metadata": {},
     "output_type": "execute_result"
    }
   ],
   "source": [
    "filter_ledger.head()"
   ]
  },
  {
   "cell_type": "code",
   "execution_count": 0,
   "metadata": {
    "application/vnd.databricks.v1+cell": {
     "cellMetadata": {
      "byteLimit": 2048000,
      "rowLimit": 10000
     },
     "inputWidgets": {},
     "nuid": "597267b9-ad2d-497f-aa26-5484f82defe4",
     "showTitle": false,
     "title": ""
    }
   },
   "outputs": [
    {
     "output_type": "execute_result",
     "data": {
      "text/plain": [
       "array(['STATE OF OKLAHOMA', 'OKLAHOMA STATE UNIVERSITY',\n",
       "       'OSU-EXPERIMENT STATION', 'OSU-EXTENSION DIVISION',\n",
       "       'OSU-TECHNICAL BRANCH, OKMULGEE',\n",
       "       'OSU COLLEGE OF VETERINARY MEDICINE', 'OSU-OKLAHOMA CITY',\n",
       "       'OSU-TULSA', 'OKLAHOMA ACCOUNTANCY BOARD',\n",
       "       'OKLAHOMA ABSTRACTORS BOARD', 'OKLAHOMA MILITARY DEPARTMENT',\n",
       "       'ALCOHOLIC BEV. LAWS ENFORCE.', 'BOLL WEEVIL ERADICATION ORG.',\n",
       "       'DEPT OF AGRICULTURE FOOD & FORESTRY',\n",
       "       'WESTERN OKLA. STATE COLLEGE', 'OKLA. BD. OF ARCHITECTS',\n",
       "       'INDIGENT DEFENSE SYSTEM', 'ATTORNEY GENERAL',\n",
       "       'STATE ARTS COUNCIL', 'OKLAHOMA AERONAUTICS COMMISSION',\n",
       "       'STATE BANKING DEPARTMENT',\n",
       "       'OFFICE OF MANAGEMENT AND ENTERPRISE SERV',\n",
       "       'TOBACCO SETTLEMENT ENDMT TRUST', 'CAMERON UNIVERSITY',\n",
       "       'CAPITOL IMPROVEMENT AUTHORITY', 'CARL ALBERT STATE COLLEGE',\n",
       "       'UNIV. OF CENTRAL OKLA.', 'DEPARTMENT OF MINES',\n",
       "       'COMMISSION ON CHILDREN AND YOUTH', 'DEPARTMENT OF CORRECTIONS',\n",
       "       'ST. BD. OF PODIATRIC MED. EXAM.', 'ST. BD. OF CHIROPRACTIC EXAM.',\n",
       "       'BOARD OF BEHAVIORAL HEALTH LICENSURE',\n",
       "       'UNIV.OF SCIENCE & ARTS OF OK', 'DEPARTMENT OF COMMERCE',\n",
       "       'CONNORS STATE COLLEGE', 'CONSTRUCTION INDUSTRIES BOARD',\n",
       "       'CORPORATION COMMISSION', 'ST BD OF COSMETOLOGY AND BARBERING',\n",
       "       'COURT OF CRIMINAL APPEALS', 'J. M. DAVIS ARMS & HIST. MUSEUM',\n",
       "       'OKLAHOMA ST.BOARD OF DENTISTRY', 'DISTRICT COURTS',\n",
       "       'DISTRICT ATTORNEYS COUNCIL', 'EAST CENTRAL UNIVERSITY',\n",
       "       'EASTERN OKLA. STATE COLLEGE', 'REDLANDS COMMUNITY COLLEGE',\n",
       "       'DEPARTMENT OF EDUCATION', 'OKLA. EDUC. TELEVISION AUTH.',\n",
       "       'STATE ELECTION BOARD', 'OFFICE OF EDUC. QUALITY & ACCOUNTABILITY',\n",
       "       'OKLAHOMA FUNERAL BOARD', 'EMPLOYMENT SECURITY COMMISSION',\n",
       "       'DEPT. OF ENVIRONMENTAL QUALITY', 'ETHICS COMMISSION',\n",
       "       'MERIT PROTECTION COMMISSION', 'STATE AUDITOR AND INSPECTOR',\n",
       "       'GOVERNOR', 'PARDON AND PAROLE BOARD',\n",
       "       'INTERSTATE OIL COMPACT COMM.', 'STATE BUREAU OF INVESTIGATION',\n",
       "       'DEPARTMENT OF EMERGENCY MANAGEMENT', 'STATE FIRE MARSHAL',\n",
       "       'FIREFIGHTERS PENS. & RET. SYST.',\n",
       "       'DEPARTMENT OF WILDLIFE CONSERVATION',\n",
       "       'OFFICE OF DISABILITY CONCERNS',\n",
       "       'OKLAHOMA STATE DEPARTMENT OF HEALTH',\n",
       "       'OFFICE OF THE CHIEF MEDICAL EXAMINER',\n",
       "       'ST. BD. OF EXAMINERS OF PERFUSIONISTS',\n",
       "       'DEPARTMENT OF TRANSPORTATION', 'OKLA. SPACE INDUSTRY DEV. AUTH.',\n",
       "       'HISTORICAL SOCIETY', 'OKLA. HORSE RACING COMM.',\n",
       "       'ENERGY RESOURCES BOARD', 'NATIVE AMER.CULTURAL & EDUC. AUTH-OK.',\n",
       "       'WORKERS COMP COURT OF EXISTING CLAIMS',\n",
       "       'OK. INDUSTRIAL FINANCE AUTH.', 'OKLAHOMA INSURANCE DEPARTMENT',\n",
       "       'MULTIPLE INJURY TRUST FUND', 'OFFICE OF JUVENILE AFFAIRS',\n",
       "       'DEPARTMENT OF LABOR', 'COMM. OF THE LAND OFFICE',\n",
       "       'COUNCIL ON LAW ENFC. ED. & TRNG.', 'OK. LAW ENFORCE. RET. SYSTEM',\n",
       "       'LANGSTON UNIVERSITY', 'OKLAHOMA STATE SENATE',\n",
       "       'OK. HOUSE OF REPRESENTATIVES', 'LEGISLATIVE SERVICE BUREAU',\n",
       "       'DEPARTMENT OF LIBRARIES', 'OKLAHOMA LOTTERY COMMISSION',\n",
       "       'OFFICE OF LIEUTENANT GOVERNOR', 'LIQUEFIED PETROLEUM GAS BD',\n",
       "       'BD OF LIC ALCOHOL & DRUG COUNS', 'BD. OF MED. LICENSURE & SUPV.',\n",
       "       'MENTAL HEALTH AND SUBSTANCE ABUSE SERV.',\n",
       "       'ROGERS STATE UNIVERSITY', 'MURRAY STATE COLLEGE',\n",
       "       'OKLA. MOTOR VEHICLE COMM.',\n",
       "       'OKLA. BUREAU OF NARCOTICS AND DANGEROUS',\n",
       "       'N. E. OKLA. A & M COLLEGE', 'NORTHEASTERN STATE UNIVERSITY',\n",
       "       'NORTHERN OKLAHOMA COLLEGE', 'NORTHWESTERN OKLA. STATE UNIVERSITY',\n",
       "       'BD. OF EXAM. FOR LT CARE ADMIN.', 'OKLA. BOARD OF NURSING',\n",
       "       'OK. PUBLIC EMPLOYEES RET. SYS.', 'ST. & EDUC. EMP. GRP. INS. BD.',\n",
       "       'BOARD OF EXAMINERS IN OPTOMETRY',\n",
       "       'STATE BD. OF OSTEOPATHIC EXAM.', 'OKLA. PANHANDLE STATE UNIV.',\n",
       "       'ROSE STATE COLEGE', 'POLICE PENSION & RET. SYSTEM',\n",
       "       'STATE PHARMACY BOARD', 'BD. OF PRIV. VOCATIONAL SCHOOLS',\n",
       "       'DEPARTMENT OF TOURISM AND RECREATION',\n",
       "       'PROF. ENGI. & LAND SURVEYORS', 'BD. OF PSYCHOLOGISTS EXAMINERS',\n",
       "       'DCAM-OMES', 'DEPARTMENT OF PUBLIC SAFETY',\n",
       "       'OKLAHOMA REAL ESTATE COMM.', 'REGENTS FOR HIGHER EDUCATION',\n",
       "       'UNIVERSITY CENTER OF SOUTHERN OKLAHOMA',\n",
       "       'REGIONAL UNIVERSITY SYSTEM OF OKLAHOMA',\n",
       "       'PHYSICIAN MANPOWER TRNG. COMM.',\n",
       "       'OK. ST. BD. OF LIC. SOCIAL WORKERS', 'SEMINOLE STATE COLLEGE',\n",
       "       'SECRETARY OF STATE', 'CNTR. FOR ADVANC. OF SCIENCE/TECHNOLOGY',\n",
       "       'OK. SCHOOL OF SCIENCE & MATH.', 'DEPARTMENT OF SECURITIES',\n",
       "       'SPEECH-LANGUAGE PATHOLOGY & AUDIOLOGY',\n",
       "       'OKLA. CITY COMMUNITY COLLEGE', 'COMM. ON CONSUMER CREDIT',\n",
       "       'CONSERVATION COMMISSION', 'DEPARTMENT OF VETERANS AFFAIRS',\n",
       "       'S. E. OKLA. ST. UNIV.', 'S. W. OKLA. ST. UNIV.',\n",
       "       'J.D. MCCARTY CENTER', 'SELF-INSURANCE GUARANTY FUND BOARD',\n",
       "       'SUPREME COURT', 'COUNCIL ON JUDICIAL COMPLAINTS',\n",
       "       'OKLAHOMA TAX COMMISSION', 'TEACHERS RETIREMENT SYSTEM',\n",
       "       'STATE TREASURER', 'TULSA COMMUNITY COLLEGE',\n",
       "       'UNIFORM BUILDING CODE COMMISSION', 'USED MOTOR VEHICLE & PARTS',\n",
       "       'UNIVERSITY CENTER AT PONCA CITY', 'UNIVERSITY OF OKLAHOMA',\n",
       "       'UNIV. OF OKLA. LAW CENTER',\n",
       "       'UNIV. OF OKLA. HEALTH SCIENCES CENTER',\n",
       "       'BD. OF CHEM. TEST ALCOHOL/DRUG',\n",
       "       'OSU-COLLEGE OF OSTEOPATHIC MED.', 'BD. OF VETERINARY MED. EXAM.',\n",
       "       'OKLA. CAREER AND TECHNOLOGY EDUCATION',\n",
       "       'ST.WIDE VIRTUAL CHARTER SCHOOL BOARD',\n",
       "       'DEPARTMENT OF REHABILITATION SERVICES', 'HEALTH CARE AUTHORITY',\n",
       "       'EMPLOYEES BENEFITS DEPARTMENT', 'UNIV. HOSPITALS AUTHORITY',\n",
       "       'DEPARTMENT OF HUMAN SERVICES', 'WATER RESOURCES BOARD',\n",
       "       \"WORKER'S COMP. COMMISSION\", 'DEVELOPMENT FINANCE AUTHORITY',\n",
       "       'OKLAHOMA TURNPIKE AUTHORITY', 'OUHSC PROF. PRAC. PLAN.',\n",
       "       'QUARTZ MOUNTAIN CENTER & PARK', 'OSU MEDICAL AUTHORITY',\n",
       "       'BUILDING BONDS COMMISSION', 'OU TULSA'], dtype=object)"
      ]
     },
     "execution_count": 10,
     "metadata": {},
     "output_type": "execute_result"
    }
   ],
   "source": [
    "# All the unique AGENCIES in the transactions \n",
    "filter_ledger['AGENCYNAME'].unique()"
   ]
  },
  {
   "cell_type": "code",
   "execution_count": 0,
   "metadata": {
    "application/vnd.databricks.v1+cell": {
     "cellMetadata": {
      "byteLimit": 2048000,
      "rowLimit": 10000
     },
     "inputWidgets": {},
     "nuid": "87e0b714-bac3-43cb-9fd5-1d81a05a8a7c",
     "showTitle": false,
     "title": ""
    }
   },
   "outputs": [
    {
     "output_type": "execute_result",
     "data": {
      "text/plain": [
       "EMPLOYMENT SECURITY COMMISSION              41502\n",
       "OKLAHOMA STATE DEPARTMENT OF HEALTH         30577\n",
       "MENTAL HEALTH AND SUBSTANCE ABUSE SERV.     22875\n",
       "OFFICE OF MANAGEMENT AND ENTERPRISE SERV    18188\n",
       "DEPT. OF ENVIRONMENTAL QUALITY              13364\n",
       "                                            ...  \n",
       "ST. BD. OF PODIATRIC MED. EXAM.                35\n",
       "OUHSC PROF. PRAC. PLAN.                        32\n",
       "ST. BD. OF EXAMINERS OF PERFUSIONISTS          30\n",
       "OU TULSA                                        7\n",
       "BUILDING BONDS COMMISSION                       3\n",
       "Name: AGENCYNAME, Length: 170, dtype: int64"
      ]
     },
     "execution_count": 11,
     "metadata": {},
     "output_type": "execute_result"
    }
   ],
   "source": [
    "# Each unique agencies and the number of ledgers they have in the given dataset\n",
    "filter_ledger.AGENCYNAME.value_counts()"
   ]
  },
  {
   "cell_type": "code",
   "execution_count": 0,
   "metadata": {
    "application/vnd.databricks.v1+cell": {
     "cellMetadata": {
      "byteLimit": 2048000,
      "rowLimit": 10000
     },
     "inputWidgets": {},
     "nuid": "fc1071ee-0415-47c9-9afc-798c903e9bb6",
     "showTitle": false,
     "title": ""
    }
   },
   "outputs": [
    {
     "output_type": "execute_result",
     "data": {
      "text/html": [
       "<div>\n",
       "<style scoped>\n",
       "    .dataframe tbody tr th:only-of-type {\n",
       "        vertical-align: middle;\n",
       "    }\n",
       "\n",
       "    .dataframe tbody tr th {\n",
       "        vertical-align: top;\n",
       "    }\n",
       "\n",
       "    .dataframe thead th {\n",
       "        text-align: right;\n",
       "    }\n",
       "</style>\n",
       "<table border=\"1\" class=\"dataframe\">\n",
       "  <thead>\n",
       "    <tr style=\"text-align: right;\">\n",
       "      <th></th>\n",
       "      <th>AGENCYNBR</th>\n",
       "      <th>AGENCYNAME</th>\n",
       "      <th>ACCOUNTING_PERIOD</th>\n",
       "      <th>FUND_CODE</th>\n",
       "      <th>FUNDDESCR</th>\n",
       "      <th>CLASS_FLD</th>\n",
       "      <th>CLASSDESCR</th>\n",
       "      <th>DEPTID</th>\n",
       "      <th>DEPTDESCR</th>\n",
       "      <th>ACCOUNT</th>\n",
       "      <th>ACCTDESCR</th>\n",
       "      <th>OPERATING_UNIT</th>\n",
       "      <th>PRODUCT</th>\n",
       "      <th>PROGRAM_CODE</th>\n",
       "      <th>BUDGET_REF</th>\n",
       "      <th>CHARTFIELD1</th>\n",
       "      <th>CHARTFIELD2</th>\n",
       "      <th>PROJECT_ID</th>\n",
       "      <th>POSTED_TOTAL_AMT</th>\n",
       "      <th>ROWID</th>\n",
       "    </tr>\n",
       "  </thead>\n",
       "  <tbody>\n",
       "    <tr>\n",
       "      <th>67</th>\n",
       "      <td>1000</td>\n",
       "      <td>OKLAHOMA STATE UNIVERSITY</td>\n",
       "      <td>1.0</td>\n",
       "      <td>9000</td>\n",
       "      <td>Higher Educ Component Unit</td>\n",
       "      <td>43000</td>\n",
       "      <td>Agency Relationship Fund</td>\n",
       "      <td>2100001</td>\n",
       "      <td>Sponsored Programs</td>\n",
       "      <td>511150</td>\n",
       "      <td>Sals-H.Ed Prof.(Non-Teach) Pay</td>\n",
       "      <td>UNKNOWN</td>\n",
       "      <td>UNKNOWN</td>\n",
       "      <td>C0103</td>\n",
       "      <td>21</td>\n",
       "      <td>UNKNOWN</td>\n",
       "      <td>UNKNOWN</td>\n",
       "      <td>UNKNOWN</td>\n",
       "      <td>1.553239e+05</td>\n",
       "      <td>AAJsAKAIoAABFGoAAN</td>\n",
       "    </tr>\n",
       "    <tr>\n",
       "      <th>68</th>\n",
       "      <td>1000</td>\n",
       "      <td>OKLAHOMA STATE UNIVERSITY</td>\n",
       "      <td>1.0</td>\n",
       "      <td>9000</td>\n",
       "      <td>Higher Educ Component Unit</td>\n",
       "      <td>70100</td>\n",
       "      <td>OSU 700 Fund</td>\n",
       "      <td>1000001</td>\n",
       "      <td>700 Funds</td>\n",
       "      <td>511170</td>\n",
       "      <td>Sals-H.Ed Other Teach Pay</td>\n",
       "      <td>UNKNOWN</td>\n",
       "      <td>UNKNOWN</td>\n",
       "      <td>C0103</td>\n",
       "      <td>22</td>\n",
       "      <td>UNKNOWN</td>\n",
       "      <td>UNKNOWN</td>\n",
       "      <td>UNKNOWN</td>\n",
       "      <td>1.432811e+04</td>\n",
       "      <td>AAJsAKAHkAALYxwAAl</td>\n",
       "    </tr>\n",
       "    <tr>\n",
       "      <th>69</th>\n",
       "      <td>1000</td>\n",
       "      <td>OKLAHOMA STATE UNIVERSITY</td>\n",
       "      <td>1.0</td>\n",
       "      <td>9000</td>\n",
       "      <td>Higher Educ Component Unit</td>\n",
       "      <td>70100</td>\n",
       "      <td>OSU 700 Fund</td>\n",
       "      <td>1000001</td>\n",
       "      <td>700 Funds</td>\n",
       "      <td>512120</td>\n",
       "      <td>Insur.Prem-Hlth-Life-Other</td>\n",
       "      <td>UNKNOWN</td>\n",
       "      <td>UNKNOWN</td>\n",
       "      <td>C0103</td>\n",
       "      <td>22</td>\n",
       "      <td>UNKNOWN</td>\n",
       "      <td>UNKNOWN</td>\n",
       "      <td>UNKNOWN</td>\n",
       "      <td>5.546533e+04</td>\n",
       "      <td>AAJsAKAHkAALY0fAAY</td>\n",
       "    </tr>\n",
       "    <tr>\n",
       "      <th>70</th>\n",
       "      <td>1000</td>\n",
       "      <td>OKLAHOMA STATE UNIVERSITY</td>\n",
       "      <td>1.0</td>\n",
       "      <td>9000</td>\n",
       "      <td>Higher Educ Component Unit</td>\n",
       "      <td>43000</td>\n",
       "      <td>Agency Relationship Fund</td>\n",
       "      <td>2100001</td>\n",
       "      <td>Sponsored Programs</td>\n",
       "      <td>513110</td>\n",
       "      <td>Employer Share-FICA</td>\n",
       "      <td>UNKNOWN</td>\n",
       "      <td>UNKNOWN</td>\n",
       "      <td>C0103</td>\n",
       "      <td>22</td>\n",
       "      <td>UNKNOWN</td>\n",
       "      <td>UNKNOWN</td>\n",
       "      <td>UNKNOWN</td>\n",
       "      <td>1.305639e+05</td>\n",
       "      <td>AAJsAKAHlAAMJryAAS</td>\n",
       "    </tr>\n",
       "    <tr>\n",
       "      <th>71</th>\n",
       "      <td>1000</td>\n",
       "      <td>OKLAHOMA STATE UNIVERSITY</td>\n",
       "      <td>1.0</td>\n",
       "      <td>9000</td>\n",
       "      <td>Higher Educ Component Unit</td>\n",
       "      <td>70100</td>\n",
       "      <td>OSU 700 Fund</td>\n",
       "      <td>1000001</td>\n",
       "      <td>700 Funds</td>\n",
       "      <td>513240</td>\n",
       "      <td>Employer Share-OtherAuthRetSys</td>\n",
       "      <td>UNKNOWN</td>\n",
       "      <td>UNKNOWN</td>\n",
       "      <td>C0103</td>\n",
       "      <td>22</td>\n",
       "      <td>UNKNOWN</td>\n",
       "      <td>UNKNOWN</td>\n",
       "      <td>UNKNOWN</td>\n",
       "      <td>1.149107e+06</td>\n",
       "      <td>AAJsAKAHlAAMJryAAW</td>\n",
       "    </tr>\n",
       "    <tr>\n",
       "      <th>...</th>\n",
       "      <td>...</td>\n",
       "      <td>...</td>\n",
       "      <td>...</td>\n",
       "      <td>...</td>\n",
       "      <td>...</td>\n",
       "      <td>...</td>\n",
       "      <td>...</td>\n",
       "      <td>...</td>\n",
       "      <td>...</td>\n",
       "      <td>...</td>\n",
       "      <td>...</td>\n",
       "      <td>...</td>\n",
       "      <td>...</td>\n",
       "      <td>...</td>\n",
       "      <td>...</td>\n",
       "      <td>...</td>\n",
       "      <td>...</td>\n",
       "      <td>...</td>\n",
       "      <td>...</td>\n",
       "      <td>...</td>\n",
       "    </tr>\n",
       "    <tr>\n",
       "      <th>310283</th>\n",
       "      <td>77500</td>\n",
       "      <td>OSU MEDICAL AUTHORITY</td>\n",
       "      <td>2.0</td>\n",
       "      <td>9000</td>\n",
       "      <td>Higher Educ Component Unit</td>\n",
       "      <td>48900</td>\n",
       "      <td>CARES Economic Development Pro</td>\n",
       "      <td>UNKNOWN</td>\n",
       "      <td>None</td>\n",
       "      <td>101000</td>\n",
       "      <td>Cash - Combining Trial Balance</td>\n",
       "      <td>UNKNOWN</td>\n",
       "      <td>UNKNOWN</td>\n",
       "      <td>UNKNOWN</td>\n",
       "      <td>UNKNOWN</td>\n",
       "      <td>UNKNOWN</td>\n",
       "      <td>UNKNOWN</td>\n",
       "      <td>UNKNOWN</td>\n",
       "      <td>3.000000e+06</td>\n",
       "      <td>AAJsAKAHlAAMJrSAAK</td>\n",
       "    </tr>\n",
       "    <tr>\n",
       "      <th>310288</th>\n",
       "      <td>80000</td>\n",
       "      <td>OKLA. CAREER AND TECHNOLOGY EDUCATION</td>\n",
       "      <td>3.0</td>\n",
       "      <td>1000</td>\n",
       "      <td>General Fund - No Divisions</td>\n",
       "      <td>38012</td>\n",
       "      <td>Lottery FY2022</td>\n",
       "      <td>UNKNOWN</td>\n",
       "      <td>None</td>\n",
       "      <td>101000</td>\n",
       "      <td>Cash - Combining Trial Balance</td>\n",
       "      <td>UNKNOWN</td>\n",
       "      <td>UNKNOWN</td>\n",
       "      <td>UNKNOWN</td>\n",
       "      <td>UNKNOWN</td>\n",
       "      <td>UNKNOWN</td>\n",
       "      <td>UNKNOWN</td>\n",
       "      <td>UNKNOWN</td>\n",
       "      <td>1.010488e+05</td>\n",
       "      <td>AAJsAKAHkAALaJ8AAA</td>\n",
       "    </tr>\n",
       "    <tr>\n",
       "      <th>310291</th>\n",
       "      <td>80700</td>\n",
       "      <td>HEALTH CARE AUTHORITY</td>\n",
       "      <td>1.0</td>\n",
       "      <td>1000</td>\n",
       "      <td>General Fund - No Divisions</td>\n",
       "      <td>19102</td>\n",
       "      <td>Duties</td>\n",
       "      <td>UNKNOWN</td>\n",
       "      <td>None</td>\n",
       "      <td>101000</td>\n",
       "      <td>Cash - Combining Trial Balance</td>\n",
       "      <td>UNKNOWN</td>\n",
       "      <td>UNKNOWN</td>\n",
       "      <td>UNKNOWN</td>\n",
       "      <td>UNKNOWN</td>\n",
       "      <td>UNKNOWN</td>\n",
       "      <td>UNKNOWN</td>\n",
       "      <td>UNKNOWN</td>\n",
       "      <td>1.200000e+08</td>\n",
       "      <td>AAJsAKAIoAABFBYAAu</td>\n",
       "    </tr>\n",
       "    <tr>\n",
       "      <th>310295</th>\n",
       "      <td>27500</td>\n",
       "      <td>OFFICE OF EDUC. QUALITY &amp; ACCOUNTABILITY</td>\n",
       "      <td>1.0</td>\n",
       "      <td>1000</td>\n",
       "      <td>General Fund - No Divisions</td>\n",
       "      <td>57605</td>\n",
       "      <td>Duties</td>\n",
       "      <td>UNKNOWN</td>\n",
       "      <td>None</td>\n",
       "      <td>101000</td>\n",
       "      <td>Cash - Combining Trial Balance</td>\n",
       "      <td>UNKNOWN</td>\n",
       "      <td>UNKNOWN</td>\n",
       "      <td>UNKNOWN</td>\n",
       "      <td>UNKNOWN</td>\n",
       "      <td>UNKNOWN</td>\n",
       "      <td>UNKNOWN</td>\n",
       "      <td>UNKNOWN</td>\n",
       "      <td>5.000000e+05</td>\n",
       "      <td>AAJsAKAIoAABE5pAAU</td>\n",
       "    </tr>\n",
       "    <tr>\n",
       "      <th>310305</th>\n",
       "      <td>10500</td>\n",
       "      <td>CAPITOL IMPROVEMENT AUTHORITY</td>\n",
       "      <td>0.0</td>\n",
       "      <td>1000</td>\n",
       "      <td>General Fund - No Divisions</td>\n",
       "      <td>46900</td>\n",
       "      <td>OK Vet Affairs Series 2022C Re</td>\n",
       "      <td>UNKNOWN</td>\n",
       "      <td>None</td>\n",
       "      <td>101000</td>\n",
       "      <td>Cash - Combining Trial Balance</td>\n",
       "      <td>UNKNOWN</td>\n",
       "      <td>UNKNOWN</td>\n",
       "      <td>UNKNOWN</td>\n",
       "      <td>UNKNOWN</td>\n",
       "      <td>UNKNOWN</td>\n",
       "      <td>UNKNOWN</td>\n",
       "      <td>UNKNOWN</td>\n",
       "      <td>3.148406e+07</td>\n",
       "      <td>AAJsAKAIoAABGXkAAf</td>\n",
       "    </tr>\n",
       "  </tbody>\n",
       "</table>\n",
       "<p>239245 rows × 20 columns</p>\n",
       "</div>"
      ],
      "text/plain": [
       "        AGENCYNBR                                AGENCYNAME  \\\n",
       "67           1000                 OKLAHOMA STATE UNIVERSITY   \n",
       "68           1000                 OKLAHOMA STATE UNIVERSITY   \n",
       "69           1000                 OKLAHOMA STATE UNIVERSITY   \n",
       "70           1000                 OKLAHOMA STATE UNIVERSITY   \n",
       "71           1000                 OKLAHOMA STATE UNIVERSITY   \n",
       "...           ...                                       ...   \n",
       "310283      77500                     OSU MEDICAL AUTHORITY   \n",
       "310288      80000     OKLA. CAREER AND TECHNOLOGY EDUCATION   \n",
       "310291      80700                     HEALTH CARE AUTHORITY   \n",
       "310295      27500  OFFICE OF EDUC. QUALITY & ACCOUNTABILITY   \n",
       "310305      10500             CAPITOL IMPROVEMENT AUTHORITY   \n",
       "\n",
       "        ACCOUNTING_PERIOD  FUND_CODE                    FUNDDESCR CLASS_FLD  \\\n",
       "67                    1.0       9000   Higher Educ Component Unit     43000   \n",
       "68                    1.0       9000   Higher Educ Component Unit     70100   \n",
       "69                    1.0       9000   Higher Educ Component Unit     70100   \n",
       "70                    1.0       9000   Higher Educ Component Unit     43000   \n",
       "71                    1.0       9000   Higher Educ Component Unit     70100   \n",
       "...                   ...        ...                          ...       ...   \n",
       "310283                2.0       9000   Higher Educ Component Unit     48900   \n",
       "310288                3.0       1000  General Fund - No Divisions     38012   \n",
       "310291                1.0       1000  General Fund - No Divisions     19102   \n",
       "310295                1.0       1000  General Fund - No Divisions     57605   \n",
       "310305                0.0       1000  General Fund - No Divisions     46900   \n",
       "\n",
       "                            CLASSDESCR   DEPTID           DEPTDESCR  ACCOUNT  \\\n",
       "67            Agency Relationship Fund  2100001  Sponsored Programs   511150   \n",
       "68                        OSU 700 Fund  1000001           700 Funds   511170   \n",
       "69                        OSU 700 Fund  1000001           700 Funds   512120   \n",
       "70            Agency Relationship Fund  2100001  Sponsored Programs   513110   \n",
       "71                        OSU 700 Fund  1000001           700 Funds   513240   \n",
       "...                                ...      ...                 ...      ...   \n",
       "310283  CARES Economic Development Pro  UNKNOWN                None   101000   \n",
       "310288                  Lottery FY2022  UNKNOWN                None   101000   \n",
       "310291                          Duties  UNKNOWN                None   101000   \n",
       "310295                          Duties  UNKNOWN                None   101000   \n",
       "310305  OK Vet Affairs Series 2022C Re  UNKNOWN                None   101000   \n",
       "\n",
       "                             ACCTDESCR OPERATING_UNIT  PRODUCT PROGRAM_CODE  \\\n",
       "67      Sals-H.Ed Prof.(Non-Teach) Pay        UNKNOWN  UNKNOWN        C0103   \n",
       "68           Sals-H.Ed Other Teach Pay        UNKNOWN  UNKNOWN        C0103   \n",
       "69          Insur.Prem-Hlth-Life-Other        UNKNOWN  UNKNOWN        C0103   \n",
       "70                 Employer Share-FICA        UNKNOWN  UNKNOWN        C0103   \n",
       "71      Employer Share-OtherAuthRetSys        UNKNOWN  UNKNOWN        C0103   \n",
       "...                                ...            ...      ...          ...   \n",
       "310283  Cash - Combining Trial Balance        UNKNOWN  UNKNOWN      UNKNOWN   \n",
       "310288  Cash - Combining Trial Balance        UNKNOWN  UNKNOWN      UNKNOWN   \n",
       "310291  Cash - Combining Trial Balance        UNKNOWN  UNKNOWN      UNKNOWN   \n",
       "310295  Cash - Combining Trial Balance        UNKNOWN  UNKNOWN      UNKNOWN   \n",
       "310305  Cash - Combining Trial Balance        UNKNOWN  UNKNOWN      UNKNOWN   \n",
       "\n",
       "       BUDGET_REF CHARTFIELD1 CHARTFIELD2 PROJECT_ID  POSTED_TOTAL_AMT  \\\n",
       "67             21     UNKNOWN     UNKNOWN    UNKNOWN      1.553239e+05   \n",
       "68             22     UNKNOWN     UNKNOWN    UNKNOWN      1.432811e+04   \n",
       "69             22     UNKNOWN     UNKNOWN    UNKNOWN      5.546533e+04   \n",
       "70             22     UNKNOWN     UNKNOWN    UNKNOWN      1.305639e+05   \n",
       "71             22     UNKNOWN     UNKNOWN    UNKNOWN      1.149107e+06   \n",
       "...           ...         ...         ...        ...               ...   \n",
       "310283    UNKNOWN     UNKNOWN     UNKNOWN    UNKNOWN      3.000000e+06   \n",
       "310288    UNKNOWN     UNKNOWN     UNKNOWN    UNKNOWN      1.010488e+05   \n",
       "310291    UNKNOWN     UNKNOWN     UNKNOWN    UNKNOWN      1.200000e+08   \n",
       "310295    UNKNOWN     UNKNOWN     UNKNOWN    UNKNOWN      5.000000e+05   \n",
       "310305    UNKNOWN     UNKNOWN     UNKNOWN    UNKNOWN      3.148406e+07   \n",
       "\n",
       "                     ROWID  \n",
       "67      AAJsAKAIoAABFGoAAN  \n",
       "68      AAJsAKAHkAALYxwAAl  \n",
       "69      AAJsAKAHkAALY0fAAY  \n",
       "70      AAJsAKAHlAAMJryAAS  \n",
       "71      AAJsAKAHlAAMJryAAW  \n",
       "...                    ...  \n",
       "310283  AAJsAKAHlAAMJrSAAK  \n",
       "310288  AAJsAKAHkAALaJ8AAA  \n",
       "310291  AAJsAKAIoAABFBYAAu  \n",
       "310295  AAJsAKAIoAABE5pAAU  \n",
       "310305  AAJsAKAIoAABGXkAAf  \n",
       "\n",
       "[239245 rows x 20 columns]"
      ]
     },
     "execution_count": 12,
     "metadata": {},
     "output_type": "execute_result"
    }
   ],
   "source": [
    "ledger_positive_amts = filter_ledger[filter_ledger[\"POSTED_TOTAL_AMT\"] > 0]\n",
    "ledger_positive_amts"
   ]
  },
  {
   "cell_type": "code",
   "execution_count": 0,
   "metadata": {
    "application/vnd.databricks.v1+cell": {
     "cellMetadata": {
      "byteLimit": 2048000,
      "rowLimit": 10000
     },
     "inputWidgets": {},
     "nuid": "d40279f8-b557-445f-9e02-8c86d8359be9",
     "showTitle": false,
     "title": ""
    }
   },
   "outputs": [
    {
     "output_type": "execute_result",
     "data": {
      "text/html": [
       "<div>\n",
       "<style scoped>\n",
       "    .dataframe tbody tr th:only-of-type {\n",
       "        vertical-align: middle;\n",
       "    }\n",
       "\n",
       "    .dataframe tbody tr th {\n",
       "        vertical-align: top;\n",
       "    }\n",
       "\n",
       "    .dataframe thead th {\n",
       "        text-align: right;\n",
       "    }\n",
       "</style>\n",
       "<table border=\"1\" class=\"dataframe\">\n",
       "  <thead>\n",
       "    <tr style=\"text-align: right;\">\n",
       "      <th></th>\n",
       "      <th>Funds Per Agency</th>\n",
       "    </tr>\n",
       "    <tr>\n",
       "      <th>AGENCYNAME</th>\n",
       "      <th></th>\n",
       "    </tr>\n",
       "  </thead>\n",
       "  <tbody>\n",
       "    <tr>\n",
       "      <th>ALCOHOLIC BEV. LAWS ENFORCE.</th>\n",
       "      <td>1.435726e+08</td>\n",
       "    </tr>\n",
       "    <tr>\n",
       "      <th>ATTORNEY GENERAL</th>\n",
       "      <td>9.244857e+08</td>\n",
       "    </tr>\n",
       "    <tr>\n",
       "      <th>BD OF LIC ALCOHOL &amp; DRUG COUNS</th>\n",
       "      <td>5.041441e+06</td>\n",
       "    </tr>\n",
       "    <tr>\n",
       "      <th>BD. OF CHEM. TEST ALCOHOL/DRUG</th>\n",
       "      <td>2.167900e+07</td>\n",
       "    </tr>\n",
       "    <tr>\n",
       "      <th>BD. OF EXAM. FOR LT CARE ADMIN.</th>\n",
       "      <td>1.178174e+07</td>\n",
       "    </tr>\n",
       "    <tr>\n",
       "      <th>BD. OF MED. LICENSURE &amp; SUPV.</th>\n",
       "      <td>1.066612e+08</td>\n",
       "    </tr>\n",
       "    <tr>\n",
       "      <th>BD. OF PRIV. VOCATIONAL SCHOOLS</th>\n",
       "      <td>6.393189e+06</td>\n",
       "    </tr>\n",
       "    <tr>\n",
       "      <th>BD. OF PSYCHOLOGISTS EXAMINERS</th>\n",
       "      <td>7.245921e+06</td>\n",
       "    </tr>\n",
       "    <tr>\n",
       "      <th>BD. OF VETERINARY MED. EXAM.</th>\n",
       "      <td>1.402133e+07</td>\n",
       "    </tr>\n",
       "    <tr>\n",
       "      <th>BOARD OF BEHAVIORAL HEALTH LICENSURE</th>\n",
       "      <td>6.796116e+06</td>\n",
       "    </tr>\n",
       "  </tbody>\n",
       "</table>\n",
       "</div>"
      ],
      "text/plain": [
       "                                      Funds Per Agency\n",
       "AGENCYNAME                                            \n",
       "ALCOHOLIC BEV. LAWS ENFORCE.              1.435726e+08\n",
       "ATTORNEY GENERAL                          9.244857e+08\n",
       "BD OF LIC ALCOHOL & DRUG COUNS            5.041441e+06\n",
       "BD. OF CHEM. TEST ALCOHOL/DRUG            2.167900e+07\n",
       "BD. OF EXAM. FOR LT CARE ADMIN.           1.178174e+07\n",
       "BD. OF MED. LICENSURE & SUPV.             1.066612e+08\n",
       "BD. OF PRIV. VOCATIONAL SCHOOLS           6.393189e+06\n",
       "BD. OF PSYCHOLOGISTS EXAMINERS            7.245921e+06\n",
       "BD. OF VETERINARY MED. EXAM.              1.402133e+07\n",
       "BOARD OF BEHAVIORAL HEALTH LICENSURE      6.796116e+06"
      ]
     },
     "execution_count": 13,
     "metadata": {},
     "output_type": "execute_result"
    }
   ],
   "source": [
    "incoming_amount = ledger_positive_amts[[\"AGENCYNAME\", \"POSTED_TOTAL_AMT\"]].groupby(by=[\"AGENCYNAME\"]).agg('sum')\n",
    "incoming_amount = incoming_amount.rename({\"POSTED_TOTAL_AMT\": \"Funds Per Agency\"}, axis=1)\n",
    "incoming_amount.head(10)"
   ]
  },
  {
   "cell_type": "code",
   "execution_count": 0,
   "metadata": {
    "application/vnd.databricks.v1+cell": {
     "cellMetadata": {
      "byteLimit": 2048000,
      "rowLimit": 10000
     },
     "inputWidgets": {},
     "nuid": "525bfc68-3911-40c8-aad9-92a8358cf14c",
     "showTitle": false,
     "title": ""
    }
   },
   "outputs": [
    {
     "output_type": "execute_result",
     "data": {
      "text/html": [
       "<div>\n",
       "<style scoped>\n",
       "    .dataframe tbody tr th:only-of-type {\n",
       "        vertical-align: middle;\n",
       "    }\n",
       "\n",
       "    .dataframe tbody tr th {\n",
       "        vertical-align: top;\n",
       "    }\n",
       "\n",
       "    .dataframe thead th {\n",
       "        text-align: right;\n",
       "    }\n",
       "</style>\n",
       "<table border=\"1\" class=\"dataframe\">\n",
       "  <thead>\n",
       "    <tr style=\"text-align: right;\">\n",
       "      <th></th>\n",
       "      <th>Expenses Per Agency</th>\n",
       "    </tr>\n",
       "    <tr>\n",
       "      <th>AGENCYNAME</th>\n",
       "      <th></th>\n",
       "    </tr>\n",
       "  </thead>\n",
       "  <tbody>\n",
       "    <tr>\n",
       "      <th>ALCOHOLIC BEV. LAWS ENFORCE.</th>\n",
       "      <td>-1.391984e+08</td>\n",
       "    </tr>\n",
       "    <tr>\n",
       "      <th>ATTORNEY GENERAL</th>\n",
       "      <td>-8.586783e+08</td>\n",
       "    </tr>\n",
       "    <tr>\n",
       "      <th>BD OF LIC ALCOHOL &amp; DRUG COUNS</th>\n",
       "      <td>-4.835598e+06</td>\n",
       "    </tr>\n",
       "    <tr>\n",
       "      <th>BD. OF CHEM. TEST ALCOHOL/DRUG</th>\n",
       "      <td>-2.102610e+07</td>\n",
       "    </tr>\n",
       "    <tr>\n",
       "      <th>BD. OF EXAM. FOR LT CARE ADMIN.</th>\n",
       "      <td>-1.132737e+07</td>\n",
       "    </tr>\n",
       "    <tr>\n",
       "      <th>BD. OF MED. LICENSURE &amp; SUPV.</th>\n",
       "      <td>-9.945522e+07</td>\n",
       "    </tr>\n",
       "    <tr>\n",
       "      <th>BD. OF PRIV. VOCATIONAL SCHOOLS</th>\n",
       "      <td>-6.292143e+06</td>\n",
       "    </tr>\n",
       "    <tr>\n",
       "      <th>BD. OF PSYCHOLOGISTS EXAMINERS</th>\n",
       "      <td>-6.861878e+06</td>\n",
       "    </tr>\n",
       "    <tr>\n",
       "      <th>BD. OF VETERINARY MED. EXAM.</th>\n",
       "      <td>-1.315918e+07</td>\n",
       "    </tr>\n",
       "    <tr>\n",
       "      <th>BOARD OF BEHAVIORAL HEALTH LICENSURE</th>\n",
       "      <td>-5.792917e+06</td>\n",
       "    </tr>\n",
       "  </tbody>\n",
       "</table>\n",
       "</div>"
      ],
      "text/plain": [
       "                                      Expenses Per Agency\n",
       "AGENCYNAME                                               \n",
       "ALCOHOLIC BEV. LAWS ENFORCE.                -1.391984e+08\n",
       "ATTORNEY GENERAL                            -8.586783e+08\n",
       "BD OF LIC ALCOHOL & DRUG COUNS              -4.835598e+06\n",
       "BD. OF CHEM. TEST ALCOHOL/DRUG              -2.102610e+07\n",
       "BD. OF EXAM. FOR LT CARE ADMIN.             -1.132737e+07\n",
       "BD. OF MED. LICENSURE & SUPV.               -9.945522e+07\n",
       "BD. OF PRIV. VOCATIONAL SCHOOLS             -6.292143e+06\n",
       "BD. OF PSYCHOLOGISTS EXAMINERS              -6.861878e+06\n",
       "BD. OF VETERINARY MED. EXAM.                -1.315918e+07\n",
       "BOARD OF BEHAVIORAL HEALTH LICENSURE        -5.792917e+06"
      ]
     },
     "execution_count": 14,
     "metadata": {},
     "output_type": "execute_result"
    }
   ],
   "source": [
    "ledger_expenditures = filter_ledger[filter_ledger[\"POSTED_TOTAL_AMT\"] < 0]\n",
    "outgoing_amount = ledger_expenditures[[\"AGENCYNAME\", \"POSTED_TOTAL_AMT\"]].groupby(by=[\"AGENCYNAME\"]).agg('sum')\n",
    "outgoing_amount = outgoing_amount.rename({\"POSTED_TOTAL_AMT\": \"Expenses Per Agency\"}, axis=1)\n",
    "outgoing_amount.head(10)"
   ]
  },
  {
   "cell_type": "code",
   "execution_count": 0,
   "metadata": {
    "application/vnd.databricks.v1+cell": {
     "cellMetadata": {
      "byteLimit": 2048000,
      "rowLimit": 10000
     },
     "inputWidgets": {},
     "nuid": "81ddee54-6b5a-4018-9acf-cc2326926a51",
     "showTitle": false,
     "title": ""
    }
   },
   "outputs": [],
   "source": [
    "# A function to filter to only show one certain agency of interest and its transaction details. \n",
    "def filterColTrans(dataframe, filterbyVal):\n",
    "    newDF = dataframe[dataframe['AGENCYNAME'] == filterbyVal] \n",
    "    newDF = newDF[['AGENCYNAME', 'FUNDDESCR', 'CLASSDESCR', 'DEPTDESCR', 'POSTED_TOTAL_AMT']]\n",
    "    return newDF "
   ]
  },
  {
   "cell_type": "code",
   "execution_count": 0,
   "metadata": {
    "application/vnd.databricks.v1+cell": {
     "cellMetadata": {
      "byteLimit": 2048000,
      "rowLimit": 10000
     },
     "inputWidgets": {},
     "nuid": "6daf2870-5b5d-42d9-90ef-03262d5f34cd",
     "showTitle": false,
     "title": ""
    }
   },
   "outputs": [],
   "source": [
    "# Example using filterColTrans\n",
    "oklahomaAlc = filterColTrans(filter_ledger, 'BD OF LIC ALCOHOL & DRUG COUNS')"
   ]
  },
  {
   "cell_type": "code",
   "execution_count": 0,
   "metadata": {
    "application/vnd.databricks.v1+cell": {
     "cellMetadata": {
      "byteLimit": 2048000,
      "rowLimit": 10000
     },
     "inputWidgets": {},
     "nuid": "8229b767-9687-467a-9142-1cbfae2b7865",
     "showTitle": false,
     "title": ""
    }
   },
   "outputs": [
    {
     "output_type": "execute_result",
     "data": {
      "text/html": [
       "<div>\n",
       "<style scoped>\n",
       "    .dataframe tbody tr th:only-of-type {\n",
       "        vertical-align: middle;\n",
       "    }\n",
       "\n",
       "    .dataframe tbody tr th {\n",
       "        vertical-align: top;\n",
       "    }\n",
       "\n",
       "    .dataframe thead th {\n",
       "        text-align: right;\n",
       "    }\n",
       "</style>\n",
       "<table border=\"1\" class=\"dataframe\">\n",
       "  <thead>\n",
       "    <tr style=\"text-align: right;\">\n",
       "      <th></th>\n",
       "      <th>AGENCYNAME</th>\n",
       "      <th>FUNDDESCR</th>\n",
       "      <th>CLASSDESCR</th>\n",
       "      <th>DEPTDESCR</th>\n",
       "      <th>POSTED_TOTAL_AMT</th>\n",
       "    </tr>\n",
       "  </thead>\n",
       "  <tbody>\n",
       "    <tr>\n",
       "      <th>21013</th>\n",
       "      <td>BD OF LIC ALCOHOL &amp; DRUG COUNS</td>\n",
       "      <td>General Fund - No Divisions</td>\n",
       "      <td>Revolving Fund</td>\n",
       "      <td>General Operations</td>\n",
       "      <td>4746.00</td>\n",
       "    </tr>\n",
       "    <tr>\n",
       "      <th>21014</th>\n",
       "      <td>BD OF LIC ALCOHOL &amp; DRUG COUNS</td>\n",
       "      <td>General Fund - No Divisions</td>\n",
       "      <td>Revolving Fund</td>\n",
       "      <td>General Operations</td>\n",
       "      <td>26.73</td>\n",
       "    </tr>\n",
       "    <tr>\n",
       "      <th>21015</th>\n",
       "      <td>BD OF LIC ALCOHOL &amp; DRUG COUNS</td>\n",
       "      <td>General Fund - No Divisions</td>\n",
       "      <td>Revolving Fund</td>\n",
       "      <td>General Operations</td>\n",
       "      <td>5123.50</td>\n",
       "    </tr>\n",
       "    <tr>\n",
       "      <th>21016</th>\n",
       "      <td>BD OF LIC ALCOHOL &amp; DRUG COUNS</td>\n",
       "      <td>General Fund - No Divisions</td>\n",
       "      <td>Revolving Fund</td>\n",
       "      <td>General Operations</td>\n",
       "      <td>28.60</td>\n",
       "    </tr>\n",
       "    <tr>\n",
       "      <th>35221</th>\n",
       "      <td>BD OF LIC ALCOHOL &amp; DRUG COUNS</td>\n",
       "      <td>General Fund - No Divisions</td>\n",
       "      <td>Employer Benefits  Taxes</td>\n",
       "      <td>None</td>\n",
       "      <td>-3091.85</td>\n",
       "    </tr>\n",
       "  </tbody>\n",
       "</table>\n",
       "</div>"
      ],
      "text/plain": [
       "                           AGENCYNAME                    FUNDDESCR  \\\n",
       "21013  BD OF LIC ALCOHOL & DRUG COUNS  General Fund - No Divisions   \n",
       "21014  BD OF LIC ALCOHOL & DRUG COUNS  General Fund - No Divisions   \n",
       "21015  BD OF LIC ALCOHOL & DRUG COUNS  General Fund - No Divisions   \n",
       "21016  BD OF LIC ALCOHOL & DRUG COUNS  General Fund - No Divisions   \n",
       "35221  BD OF LIC ALCOHOL & DRUG COUNS  General Fund - No Divisions   \n",
       "\n",
       "                     CLASSDESCR           DEPTDESCR  POSTED_TOTAL_AMT  \n",
       "21013            Revolving Fund  General Operations           4746.00  \n",
       "21014            Revolving Fund  General Operations             26.73  \n",
       "21015            Revolving Fund  General Operations           5123.50  \n",
       "21016            Revolving Fund  General Operations             28.60  \n",
       "35221  Employer Benefits  Taxes                None          -3091.85  "
      ]
     },
     "execution_count": 17,
     "metadata": {},
     "output_type": "execute_result"
    }
   ],
   "source": [
    "oklahomaAlc.head()"
   ]
  },
  {
   "cell_type": "code",
   "execution_count": 0,
   "metadata": {
    "application/vnd.databricks.v1+cell": {
     "cellMetadata": {
      "byteLimit": 2048000,
      "rowLimit": 10000
     },
     "inputWidgets": {},
     "nuid": "62450f14-b65a-4d6d-a91e-d4d3c785a07a",
     "showTitle": false,
     "title": ""
    }
   },
   "outputs": [
    {
     "output_type": "execute_result",
     "data": {
      "text/html": [
       "<div>\n",
       "<style scoped>\n",
       "    .dataframe tbody tr th:only-of-type {\n",
       "        vertical-align: middle;\n",
       "    }\n",
       "\n",
       "    .dataframe tbody tr th {\n",
       "        vertical-align: top;\n",
       "    }\n",
       "\n",
       "    .dataframe thead th {\n",
       "        text-align: right;\n",
       "    }\n",
       "</style>\n",
       "<table border=\"1\" class=\"dataframe\">\n",
       "  <thead>\n",
       "    <tr style=\"text-align: right;\">\n",
       "      <th></th>\n",
       "      <th>AGENCYNAME</th>\n",
       "      <th>Funds Per Agency</th>\n",
       "      <th>Expenses Per Agency</th>\n",
       "      <th>Total Left Over</th>\n",
       "      <th>Percentage of Funds Spent</th>\n",
       "    </tr>\n",
       "  </thead>\n",
       "  <tbody>\n",
       "    <tr>\n",
       "      <th>0</th>\n",
       "      <td>ALCOHOLIC BEV. LAWS ENFORCE.</td>\n",
       "      <td>1.435726e+08</td>\n",
       "      <td>-1.391984e+08</td>\n",
       "      <td>4374216.34</td>\n",
       "      <td>96.953308</td>\n",
       "    </tr>\n",
       "    <tr>\n",
       "      <th>1</th>\n",
       "      <td>ATTORNEY GENERAL</td>\n",
       "      <td>9.244857e+08</td>\n",
       "      <td>-8.586783e+08</td>\n",
       "      <td>65807460.34</td>\n",
       "      <td>92.881723</td>\n",
       "    </tr>\n",
       "    <tr>\n",
       "      <th>2</th>\n",
       "      <td>BD OF LIC ALCOHOL &amp; DRUG COUNS</td>\n",
       "      <td>5.041441e+06</td>\n",
       "      <td>-4.835598e+06</td>\n",
       "      <td>205842.65</td>\n",
       "      <td>95.916987</td>\n",
       "    </tr>\n",
       "    <tr>\n",
       "      <th>3</th>\n",
       "      <td>BD. OF CHEM. TEST ALCOHOL/DRUG</td>\n",
       "      <td>2.167900e+07</td>\n",
       "      <td>-2.102610e+07</td>\n",
       "      <td>652903.66</td>\n",
       "      <td>96.988313</td>\n",
       "    </tr>\n",
       "  </tbody>\n",
       "</table>\n",
       "</div>"
      ],
      "text/plain": [
       "                       AGENCYNAME  Funds Per Agency  Expenses Per Agency  \\\n",
       "0    ALCOHOLIC BEV. LAWS ENFORCE.      1.435726e+08        -1.391984e+08   \n",
       "1                ATTORNEY GENERAL      9.244857e+08        -8.586783e+08   \n",
       "2  BD OF LIC ALCOHOL & DRUG COUNS      5.041441e+06        -4.835598e+06   \n",
       "3  BD. OF CHEM. TEST ALCOHOL/DRUG      2.167900e+07        -2.102610e+07   \n",
       "\n",
       "   Total Left Over  Percentage of Funds Spent  \n",
       "0       4374216.34                  96.953308  \n",
       "1      65807460.34                  92.881723  \n",
       "2        205842.65                  95.916987  \n",
       "3        652903.66                  96.988313  "
      ]
     },
     "execution_count": 18,
     "metadata": {},
     "output_type": "execute_result"
    }
   ],
   "source": [
    "joined_df = incoming_amount.join(outgoing_amount)\n",
    "\n",
    "joined_df[\"Total Left Over\"] = joined_df[\"Funds Per Agency\"] + joined_df[\"Expenses Per Agency\"]\n",
    "joined_df[\"Percentage of Funds Spent\"] = (1 - (joined_df[\"Total Left Over\"] / joined_df[\"Funds Per Agency\"])) * 100\n",
    "\n",
    "joined_df = joined_df.reset_index()\n",
    "\n",
    "\n",
    "joined_df.head(4)"
   ]
  },
  {
   "cell_type": "code",
   "execution_count": 0,
   "metadata": {
    "application/vnd.databricks.v1+cell": {
     "cellMetadata": {
      "byteLimit": 2048000,
      "rowLimit": 10000
     },
     "inputWidgets": {},
     "nuid": "05415143-1028-4c83-8912-779d777af78d",
     "showTitle": false,
     "title": ""
    }
   },
   "outputs": [
    {
     "output_type": "execute_result",
     "data": {
      "text/plain": [
       "<AxesSubplot:xlabel='AGENCYNAME', ylabel='Percentage of Funds Spent'>"
      ]
     },
     "execution_count": 19,
     "metadata": {},
     "output_type": "execute_result"
    },
    {
     "output_type": "display_data",
     "data": {
      "image/png": "[encoded data removed]",
      "text/plain": [
       "<Figure size 640x480 with 1 Axes>"
      ]
     },
     "metadata": {},
     "output_type": "display_data"
    }
   ],
   "source": [
    "sns.barplot(data=joined_df, x=\"AGENCYNAME\", y=\"Percentage of Funds Spent\")"
   ]
  },
  {
   "cell_type": "code",
   "execution_count": 0,
   "metadata": {
    "application/vnd.databricks.v1+cell": {
     "cellMetadata": {
      "byteLimit": 2048000,
      "rowLimit": 10000
     },
     "inputWidgets": {},
     "nuid": "409c00f4-0864-4b4c-9dd1-e1490ad92971",
     "showTitle": false,
     "title": ""
    }
   },
   "outputs": [
    {
     "output_type": "stream",
     "name": "stderr",
     "output_type": "stream",
     "text": [
      "/databricks/python/lib/python3.10/site-packages/seaborn/_decorators.py:36: FutureWarning: Pass the following variable as a keyword arg: x. From version 0.12, the only valid positional argument will be `data`, and passing other arguments without an explicit keyword will result in an error or misinterpretation.\n  warnings.warn(\n"
     ]
    },
    {
     "output_type": "execute_result",
     "data": {
      "text/plain": [
       "<AxesSubplot:xlabel='Funds Per Agency'>"
      ]
     },
     "execution_count": 20,
     "metadata": {},
     "output_type": "execute_result"
    },
    {
     "output_type": "display_data",
     "data": {
      "image/png": "[encoded data removed]",
      "text/plain": [
       "<Figure size 640x480 with 1 Axes>"
      ]
     },
     "metadata": {},
     "output_type": "display_data"
    }
   ],
   "source": [
    "sns.boxplot(joined_df['Funds Per Agency'])"
   ]
  },
  {
   "cell_type": "code",
   "execution_count": 0,
   "metadata": {
    "application/vnd.databricks.v1+cell": {
     "cellMetadata": {
      "byteLimit": 2048000,
      "rowLimit": 10000
     },
     "inputWidgets": {},
     "nuid": "db1acc2b-e46b-4288-bcf4-a6d59df53d28",
     "showTitle": false,
     "title": ""
    }
   },
   "outputs": [
    {
     "output_type": "stream",
     "name": "stderr",
     "output_type": "stream",
     "text": [
      "/databricks/python/lib/python3.10/site-packages/seaborn/_decorators.py:36: FutureWarning: Pass the following variable as a keyword arg: x. From version 0.12, the only valid positional argument will be `data`, and passing other arguments without an explicit keyword will result in an error or misinterpretation.\n  warnings.warn(\n"
     ]
    },
    {
     "output_type": "execute_result",
     "data": {
      "text/plain": [
       "<AxesSubplot:xlabel='Expenses Per Agency'>"
      ]
     },
     "execution_count": 21,
     "metadata": {},
     "output_type": "execute_result"
    },
    {
     "output_type": "display_data",
     "data": {
      "image/png": "[encoded data removed]",
      "text/plain": [
       "<Figure size 640x480 with 1 Axes>"
      ]
     },
     "metadata": {},
     "output_type": "display_data"
    }
   ],
   "source": [
    "sns.boxplot(joined_df['Expenses Per Agency'])"
   ]
  },
  {
   "cell_type": "code",
   "execution_count": 0,
   "metadata": {
    "application/vnd.databricks.v1+cell": {
     "cellMetadata": {
      "byteLimit": 2048000,
      "rowLimit": 10000
     },
     "inputWidgets": {},
     "nuid": "513f38e7-9ef6-4712-b793-38090eda7b78",
     "showTitle": false,
     "title": ""
    }
   },
   "outputs": [
    {
     "output_type": "stream",
     "name": "stderr",
     "output_type": "stream",
     "text": [
      "/databricks/python/lib/python3.10/site-packages/seaborn/_decorators.py:36: FutureWarning: Pass the following variable as a keyword arg: x. From version 0.12, the only valid positional argument will be `data`, and passing other arguments without an explicit keyword will result in an error or misinterpretation.\n  warnings.warn(\n"
     ]
    },
    {
     "output_type": "execute_result",
     "data": {
      "text/plain": [
       "<AxesSubplot:xlabel='Percentage of Funds Spent'>"
      ]
     },
     "execution_count": 22,
     "metadata": {},
     "output_type": "execute_result"
    },
    {
     "output_type": "display_data",
     "data": {
      "image/png": "[encoded data removed]",
      "text/plain": [
       "<Figure size 640x480 with 1 Axes>"
      ]
     },
     "metadata": {},
     "output_type": "display_data"
    }
   ],
   "source": [
    "sns.boxplot(joined_df['Percentage of Funds Spent'])"
   ]
  },
  {
   "cell_type": "code",
   "execution_count": 0,
   "metadata": {
    "application/vnd.databricks.v1+cell": {
     "cellMetadata": {
      "byteLimit": 2048000,
      "rowLimit": 10000
     },
     "inputWidgets": {},
     "nuid": "a0f03d89-5317-4ef7-8b22-22e6784d9bb7",
     "showTitle": false,
     "title": ""
    }
   },
   "outputs": [
    {
     "output_type": "execute_result",
     "data": {
      "text/plain": [
       "14     7.577908e+09\n",
       "17     2.190180e+09\n",
       "23     4.331248e+09\n",
       "28     1.974999e+09\n",
       "29     1.603792e+10\n",
       "30     1.037091e+10\n",
       "32     2.728659e+10\n",
       "36     5.614239e+09\n",
       "37     2.838189e+09\n",
       "39     2.115139e+09\n",
       "40     1.873204e+10\n",
       "41     4.189841e+09\n",
       "44     2.016018e+09\n",
       "46     3.245023e+09\n",
       "47     2.148236e+09\n",
       "50     5.696740e+09\n",
       "51     1.868363e+10\n",
       "54     5.704645e+09\n",
       "56     1.195699e+10\n",
       "65     8.742231e+09\n",
       "71     3.084070e+09\n",
       "76     2.844352e+09\n",
       "78     1.066445e+10\n",
       "83     1.197939e+10\n",
       "89     2.683673e+09\n",
       "90     2.499468e+09\n",
       "101    2.176517e+09\n",
       "105    8.257214e+09\n",
       "107    2.826655e+10\n",
       "108    6.587160e+10\n",
       "119    4.353903e+09\n",
       "122    2.850629e+09\n",
       "126    6.159927e+09\n",
       "131    2.391991e+09\n",
       "137    2.998424e+10\n",
       "149    7.352632e+09\n",
       "151    2.799781e+09\n",
       "153    3.212502e+10\n",
       "155    3.964182e+09\n",
       "157    2.189277e+09\n",
       "158    5.135335e+09\n",
       "159    1.938354e+10\n",
       "164    2.230881e+10\n",
       "Name: Funds Per Agency, dtype: float64"
      ]
     },
     "execution_count": 23,
     "metadata": {},
     "output_type": "execute_result"
    }
   ],
   "source": [
    "upper_array=joined_df[joined_df['Funds Per Agency']>=1.957016e+09]['Funds Per Agency']\n",
    "upper_array"
   ]
  },
  {
   "cell_type": "code",
   "execution_count": 0,
   "metadata": {
    "application/vnd.databricks.v1+cell": {
     "cellMetadata": {
      "byteLimit": 2048000,
      "rowLimit": 10000
     },
     "inputWidgets": {},
     "nuid": "d6546afa-6c55-4b92-b0ab-84d92e146866",
     "showTitle": false,
     "title": ""
    }
   },
   "outputs": [],
   "source": [
    "no_outliers_funds = joined_df[joined_df['Funds Per Agency']<1.957016e+09]\n",
    "no_outliers_funds = no_outliers_funds[no_outliers_funds['Funds Per Agency']>5.441266e+07]"
   ]
  },
  {
   "cell_type": "code",
   "execution_count": 0,
   "metadata": {
    "application/vnd.databricks.v1+cell": {
     "cellMetadata": {
      "byteLimit": 2048000,
      "rowLimit": 10000
     },
     "inputWidgets": {},
     "nuid": "154321cf-1764-4c7a-9a66-76facaaa2f57",
     "showTitle": false,
     "title": ""
    }
   },
   "outputs": [
    {
     "output_type": "execute_result",
     "data": {
      "text/html": [
       "<div>\n",
       "<style scoped>\n",
       "    .dataframe tbody tr th:only-of-type {\n",
       "        vertical-align: middle;\n",
       "    }\n",
       "\n",
       "    .dataframe tbody tr th {\n",
       "        vertical-align: top;\n",
       "    }\n",
       "\n",
       "    .dataframe thead th {\n",
       "        text-align: right;\n",
       "    }\n",
       "</style>\n",
       "<table border=\"1\" class=\"dataframe\">\n",
       "  <thead>\n",
       "    <tr style=\"text-align: right;\">\n",
       "      <th></th>\n",
       "      <th>AGENCYNAME</th>\n",
       "      <th>Funds Per Agency</th>\n",
       "      <th>Expenses Per Agency</th>\n",
       "      <th>Total Left Over</th>\n",
       "      <th>Percentage of Funds Spent</th>\n",
       "    </tr>\n",
       "  </thead>\n",
       "  <tbody>\n",
       "    <tr>\n",
       "      <th>0</th>\n",
       "      <td>ALCOHOLIC BEV. LAWS ENFORCE.</td>\n",
       "      <td>1.435726e+08</td>\n",
       "      <td>-1.391984e+08</td>\n",
       "      <td>4.374216e+06</td>\n",
       "      <td>96.953308</td>\n",
       "    </tr>\n",
       "    <tr>\n",
       "      <th>1</th>\n",
       "      <td>ATTORNEY GENERAL</td>\n",
       "      <td>9.244857e+08</td>\n",
       "      <td>-8.586783e+08</td>\n",
       "      <td>6.580746e+07</td>\n",
       "      <td>92.881723</td>\n",
       "    </tr>\n",
       "    <tr>\n",
       "      <th>5</th>\n",
       "      <td>BD. OF MED. LICENSURE &amp; SUPV.</td>\n",
       "      <td>1.066612e+08</td>\n",
       "      <td>-9.945522e+07</td>\n",
       "      <td>7.205993e+06</td>\n",
       "      <td>93.244036</td>\n",
       "    </tr>\n",
       "    <tr>\n",
       "      <th>13</th>\n",
       "      <td>CAMERON UNIVERSITY</td>\n",
       "      <td>1.568522e+09</td>\n",
       "      <td>-1.551953e+09</td>\n",
       "      <td>1.656871e+07</td>\n",
       "      <td>98.943674</td>\n",
       "    </tr>\n",
       "    <tr>\n",
       "      <th>15</th>\n",
       "      <td>CARL ALBERT STATE COLLEGE</td>\n",
       "      <td>6.434918e+08</td>\n",
       "      <td>-6.283655e+08</td>\n",
       "      <td>1.512634e+07</td>\n",
       "      <td>97.649334</td>\n",
       "    </tr>\n",
       "    <tr>\n",
       "      <th>...</th>\n",
       "      <td>...</td>\n",
       "      <td>...</td>\n",
       "      <td>...</td>\n",
       "      <td>...</td>\n",
       "      <td>...</td>\n",
       "    </tr>\n",
       "    <tr>\n",
       "      <th>163</th>\n",
       "      <td>UNIVERSITY CENTER OF SOUTHERN OKLAHOMA</td>\n",
       "      <td>5.840630e+07</td>\n",
       "      <td>-5.777586e+07</td>\n",
       "      <td>6.304350e+05</td>\n",
       "      <td>98.920604</td>\n",
       "    </tr>\n",
       "    <tr>\n",
       "      <th>166</th>\n",
       "      <td>WATER RESOURCES BOARD</td>\n",
       "      <td>1.903070e+09</td>\n",
       "      <td>-1.689826e+09</td>\n",
       "      <td>2.132438e+08</td>\n",
       "      <td>88.794745</td>\n",
       "    </tr>\n",
       "    <tr>\n",
       "      <th>167</th>\n",
       "      <td>WESTERN OKLA. STATE COLLEGE</td>\n",
       "      <td>4.012821e+08</td>\n",
       "      <td>-3.946267e+08</td>\n",
       "      <td>6.655424e+06</td>\n",
       "      <td>98.341460</td>\n",
       "    </tr>\n",
       "    <tr>\n",
       "      <th>168</th>\n",
       "      <td>WORKER'S COMP. COMMISSION</td>\n",
       "      <td>8.822954e+07</td>\n",
       "      <td>-7.808345e+07</td>\n",
       "      <td>1.014608e+07</td>\n",
       "      <td>88.500355</td>\n",
       "    </tr>\n",
       "    <tr>\n",
       "      <th>169</th>\n",
       "      <td>WORKERS COMP COURT OF EXISTING CLAIMS</td>\n",
       "      <td>1.628666e+08</td>\n",
       "      <td>-1.596495e+08</td>\n",
       "      <td>3.217071e+06</td>\n",
       "      <td>98.024719</td>\n",
       "    </tr>\n",
       "  </tbody>\n",
       "</table>\n",
       "<p>84 rows × 5 columns</p>\n",
       "</div>"
      ],
      "text/plain": [
       "                                 AGENCYNAME  Funds Per Agency  \\\n",
       "0              ALCOHOLIC BEV. LAWS ENFORCE.      1.435726e+08   \n",
       "1                          ATTORNEY GENERAL      9.244857e+08   \n",
       "5             BD. OF MED. LICENSURE & SUPV.      1.066612e+08   \n",
       "13                       CAMERON UNIVERSITY      1.568522e+09   \n",
       "15                CARL ALBERT STATE COLLEGE      6.434918e+08   \n",
       "..                                      ...               ...   \n",
       "163  UNIVERSITY CENTER OF SOUTHERN OKLAHOMA      5.840630e+07   \n",
       "166                   WATER RESOURCES BOARD      1.903070e+09   \n",
       "167             WESTERN OKLA. STATE COLLEGE      4.012821e+08   \n",
       "168               WORKER'S COMP. COMMISSION      8.822954e+07   \n",
       "169   WORKERS COMP COURT OF EXISTING CLAIMS      1.628666e+08   \n",
       "\n",
       "     Expenses Per Agency  Total Left Over  Percentage of Funds Spent  \n",
       "0          -1.391984e+08     4.374216e+06                  96.953308  \n",
       "1          -8.586783e+08     6.580746e+07                  92.881723  \n",
       "5          -9.945522e+07     7.205993e+06                  93.244036  \n",
       "13         -1.551953e+09     1.656871e+07                  98.943674  \n",
       "15         -6.283655e+08     1.512634e+07                  97.649334  \n",
       "..                   ...              ...                        ...  \n",
       "163        -5.777586e+07     6.304350e+05                  98.920604  \n",
       "166        -1.689826e+09     2.132438e+08                  88.794745  \n",
       "167        -3.946267e+08     6.655424e+06                  98.341460  \n",
       "168        -7.808345e+07     1.014608e+07                  88.500355  \n",
       "169        -1.596495e+08     3.217071e+06                  98.024719  \n",
       "\n",
       "[84 rows x 5 columns]"
      ]
     },
     "execution_count": 25,
     "metadata": {},
     "output_type": "execute_result"
    }
   ],
   "source": [
    "no_outliers_funds"
   ]
  },
  {
   "cell_type": "code",
   "execution_count": 0,
   "metadata": {
    "application/vnd.databricks.v1+cell": {
     "cellMetadata": {
      "byteLimit": 2048000,
      "rowLimit": 10000
     },
     "inputWidgets": {},
     "nuid": "46e8d156-a3ca-4900-880d-762fff8d98dd",
     "showTitle": false,
     "title": ""
    }
   },
   "outputs": [
    {
     "output_type": "execute_result",
     "data": {
      "text/plain": [
       "Text(0.5, 1.0, 'Distribution of Funds Per Agency')"
      ]
     },
     "execution_count": 26,
     "metadata": {},
     "output_type": "execute_result"
    },
    {
     "output_type": "display_data",
     "data": {
      "image/png": "[encoded data removed]",
      "text/plain": [
       "<Figure size 640x480 with 1 Axes>"
      ]
     },
     "metadata": {},
     "output_type": "display_data"
    }
   ],
   "source": [
    "ax = no_outliers_funds['Funds Per Agency'].hist()\n",
    "ax.set(xlabel=\"Funds in Billions\", ylabel=\"Frequency\")\n",
    "ax.set_title(\"Distribution of Funds Per Agency\")"
   ]
  },
  {
   "cell_type": "code",
   "execution_count": 0,
   "metadata": {
    "application/vnd.databricks.v1+cell": {
     "cellMetadata": {
      "byteLimit": 2048000,
      "rowLimit": 10000
     },
     "inputWidgets": {},
     "nuid": "0b4ffe75-2cbf-4047-9513-2afbedc6f5f6",
     "showTitle": false,
     "title": ""
    }
   },
   "outputs": [],
   "source": [
    "no_outliers_exp = joined_df[joined_df['Expenses Per Agency']>-1.836443e+09]\n",
    "no_outliers_exp = no_outliers_exp[no_outliers_exp['Expenses Per Agency']<-5.354166e+07]"
   ]
  },
  {
   "cell_type": "code",
   "execution_count": 0,
   "metadata": {
    "application/vnd.databricks.v1+cell": {
     "cellMetadata": {
      "byteLimit": 2048000,
      "rowLimit": 10000
     },
     "inputWidgets": {},
     "nuid": "51830022-8eb5-4908-95cb-ffb3d354a046",
     "showTitle": false,
     "title": ""
    }
   },
   "outputs": [
    {
     "output_type": "execute_result",
     "data": {
      "text/plain": [
       "Text(0.5, 1.0, 'Distribution of Expenses Per Agency')"
      ]
     },
     "execution_count": 28,
     "metadata": {},
     "output_type": "execute_result"
    },
    {
     "output_type": "display_data",
     "data": {
      "image/png": "[encoded data removed]",
      "text/plain": [
       "<Figure size 640x480 with 1 Axes>"
      ]
     },
     "metadata": {},
     "output_type": "display_data"
    }
   ],
   "source": [
    "ax2 = no_outliers_exp['Expenses Per Agency'].hist()\n",
    "ax2.set(xlabel=\"Expenses in Billions\", ylabel=\"Frequency\")\n",
    "ax2.set_title(\"Distribution of Expenses Per Agency\")"
   ]
  },
  {
   "cell_type": "code",
   "execution_count": 0,
   "metadata": {
    "application/vnd.databricks.v1+cell": {
     "cellMetadata": {
      "byteLimit": 2048000,
      "rowLimit": 10000
     },
     "inputWidgets": {},
     "nuid": "19ca2427-61b3-4816-893e-b8a264d2d9ea",
     "showTitle": false,
     "title": ""
    }
   },
   "outputs": [
    {
     "output_type": "execute_result",
     "data": {
      "text/html": [
       "<div>\n",
       "<style scoped>\n",
       "    .dataframe tbody tr th:only-of-type {\n",
       "        vertical-align: middle;\n",
       "    }\n",
       "\n",
       "    .dataframe tbody tr th {\n",
       "        vertical-align: top;\n",
       "    }\n",
       "\n",
       "    .dataframe thead th {\n",
       "        text-align: right;\n",
       "    }\n",
       "</style>\n",
       "<table border=\"1\" class=\"dataframe\">\n",
       "  <thead>\n",
       "    <tr style=\"text-align: right;\">\n",
       "      <th></th>\n",
       "      <th>Funds Per Agency</th>\n",
       "      <th>Expenses Per Agency</th>\n",
       "      <th>Percentage of Funds Spent</th>\n",
       "    </tr>\n",
       "  </thead>\n",
       "  <tbody>\n",
       "    <tr>\n",
       "      <th>count</th>\n",
       "      <td>1.700000e+02</td>\n",
       "      <td>1.700000e+02</td>\n",
       "      <td>170.000000</td>\n",
       "    </tr>\n",
       "    <tr>\n",
       "      <th>mean</th>\n",
       "      <td>2.877214e+09</td>\n",
       "      <td>-2.818233e+09</td>\n",
       "      <td>95.594016</td>\n",
       "    </tr>\n",
       "    <tr>\n",
       "      <th>std</th>\n",
       "      <td>7.450562e+09</td>\n",
       "      <td>7.326178e+09</td>\n",
       "      <td>9.068855</td>\n",
       "    </tr>\n",
       "    <tr>\n",
       "      <th>min</th>\n",
       "      <td>2.371000e+04</td>\n",
       "      <td>-6.437573e+10</td>\n",
       "      <td>9.287548</td>\n",
       "    </tr>\n",
       "    <tr>\n",
       "      <th>25%</th>\n",
       "      <td>5.441266e+07</td>\n",
       "      <td>-1.836443e+09</td>\n",
       "      <td>95.358628</td>\n",
       "    </tr>\n",
       "    <tr>\n",
       "      <th>50%</th>\n",
       "      <td>4.749631e+08</td>\n",
       "      <td>-4.691759e+08</td>\n",
       "      <td>98.100533</td>\n",
       "    </tr>\n",
       "    <tr>\n",
       "      <th>75%</th>\n",
       "      <td>1.957016e+09</td>\n",
       "      <td>-5.354166e+07</td>\n",
       "      <td>99.136265</td>\n",
       "    </tr>\n",
       "    <tr>\n",
       "      <th>max</th>\n",
       "      <td>6.587160e+10</td>\n",
       "      <td>-2.371000e+04</td>\n",
       "      <td>100.000000</td>\n",
       "    </tr>\n",
       "  </tbody>\n",
       "</table>\n",
       "</div>"
      ],
      "text/plain": [
       "       Funds Per Agency  Expenses Per Agency  Percentage of Funds Spent\n",
       "count      1.700000e+02         1.700000e+02                 170.000000\n",
       "mean       2.877214e+09        -2.818233e+09                  95.594016\n",
       "std        7.450562e+09         7.326178e+09                   9.068855\n",
       "min        2.371000e+04        -6.437573e+10                   9.287548\n",
       "25%        5.441266e+07        -1.836443e+09                  95.358628\n",
       "50%        4.749631e+08        -4.691759e+08                  98.100533\n",
       "75%        1.957016e+09        -5.354166e+07                  99.136265\n",
       "max        6.587160e+10        -2.371000e+04                 100.000000"
      ]
     },
     "execution_count": 29,
     "metadata": {},
     "output_type": "execute_result"
    }
   ],
   "source": [
    "joined_df.describe()[['Funds Per Agency','Expenses Per Agency','Percentage of Funds Spent']]"
   ]
  },
  {
   "cell_type": "code",
   "execution_count": 0,
   "metadata": {
    "application/vnd.databricks.v1+cell": {
     "cellMetadata": {
      "byteLimit": 2048000,
      "rowLimit": 10000
     },
     "inputWidgets": {},
     "nuid": "999cf736-f0a4-4661-9da2-140b648d16a2",
     "showTitle": false,
     "title": ""
    }
   },
   "outputs": [],
   "source": [
    "no_outliers_per = joined_df[joined_df['Percentage of Funds Spent']<99.136265]\n",
    "no_outliers_per = joined_df[joined_df['Percentage of Funds Spent']>95.358628]"
   ]
  },
  {
   "cell_type": "code",
   "execution_count": 0,
   "metadata": {
    "application/vnd.databricks.v1+cell": {
     "cellMetadata": {
      "byteLimit": 2048000,
      "rowLimit": 10000
     },
     "inputWidgets": {},
     "nuid": "a33f509a-7efa-45bd-b31a-6a0ec188ac4f",
     "showTitle": false,
     "title": ""
    }
   },
   "outputs": [
    {
     "output_type": "execute_result",
     "data": {
      "text/plain": [
       "Text(0.5, 1.0, 'Distribution of Percentage of Funds Spent')"
      ]
     },
     "execution_count": 31,
     "metadata": {},
     "output_type": "execute_result"
    },
    {
     "output_type": "display_data",
     "data": {
      "image/png": "[encoded data removed]",
      "text/plain": [
       "<Figure size 640x480 with 1 Axes>"
      ]
     },
     "metadata": {},
     "output_type": "display_data"
    }
   ],
   "source": [
    "ax3 = no_outliers_per['Percentage of Funds Spent'].hist()\n",
    "ax3.set(xlabel=\"% of Funds Spent\", ylabel=\"Frequency\")\n",
    "ax3.set_title(\"Distribution of Percentage of Funds Spent\")"
   ]
  },
  {
   "cell_type": "code",
   "execution_count": 0,
   "metadata": {
    "application/vnd.databricks.v1+cell": {
     "cellMetadata": {
      "byteLimit": 2048000,
      "rowLimit": 10000
     },
     "inputWidgets": {},
     "nuid": "e82dc529-473b-45b1-8f25-d695eff07ca4",
     "showTitle": false,
     "title": ""
    }
   },
   "outputs": [],
   "source": [
    "no_outliers = no_outliers_funds[no_outliers_funds['Percentage of Funds Spent']>95.35]"
   ]
  },
  {
   "cell_type": "code",
   "execution_count": 0,
   "metadata": {
    "application/vnd.databricks.v1+cell": {
     "cellMetadata": {
      "byteLimit": 2048000,
      "rowLimit": 10000
     },
     "inputWidgets": {},
     "nuid": "d4fea0d0-fc2a-43ac-a000-5ffe8a2bac01",
     "showTitle": false,
     "title": ""
    }
   },
   "outputs": [
    {
     "output_type": "execute_result",
     "data": {
      "text/plain": [
       "<AxesSubplot:xlabel='Funds Per Agency', ylabel='Percentage of Funds Spent'>"
      ]
     },
     "execution_count": 33,
     "metadata": {},
     "output_type": "execute_result"
    },
    {
     "output_type": "display_data",
     "data": {
      "image/png": "[encoded data removed]",
      "text/plain": [
       "<Figure size 640x480 with 1 Axes>"
      ]
     },
     "metadata": {},
     "output_type": "display_data"
    }
   ],
   "source": [
    "no_outliers.plot.scatter(x='Funds Per Agency', y='Percentage of Funds Spent')"
   ]
  },
  {
   "cell_type": "code",
   "execution_count": 0,
   "metadata": {
    "application/vnd.databricks.v1+cell": {
     "cellMetadata": {
      "byteLimit": 2048000,
      "rowLimit": 10000
     },
     "inputWidgets": {},
     "nuid": "5279493b-6a87-4ba9-abc5-d4ae7ef06316",
     "showTitle": false,
     "title": ""
    }
   },
   "outputs": [
    {
     "output_type": "stream",
     "name": "stderr",
     "output_type": "stream",
     "text": [
      "/databricks/python/lib/python3.10/site-packages/seaborn/_decorators.py:36: FutureWarning: Pass the following variables as keyword args: x, y. From version 0.12, the only valid positional argument will be `data`, and passing other arguments without an explicit keyword will result in an error or misinterpretation.\n  warnings.warn(\n"
     ]
    },
    {
     "output_type": "execute_result",
     "data": {
      "text/plain": [
       "<AxesSubplot:xlabel='Funds Per Agency', ylabel='Percentage of Funds Spent'>"
      ]
     },
     "execution_count": 34,
     "metadata": {},
     "output_type": "execute_result"
    },
    {
     "output_type": "display_data",
     "data": {
      "image/png": "[encoded data removed]",
      "text/plain": [
       "<Figure size 640x480 with 1 Axes>"
      ]
     },
     "metadata": {},
     "output_type": "display_data"
    }
   ],
   "source": [
    "sns.regplot(no_outliers['Funds Per Agency'],no_outliers['Percentage of Funds Spent'])"
   ]
  },
  {
   "cell_type": "code",
   "execution_count": 0,
   "metadata": {
    "application/vnd.databricks.v1+cell": {
     "cellMetadata": {
      "byteLimit": 2048000,
      "rowLimit": 10000
     },
     "inputWidgets": {},
     "nuid": "ebfc4cdc-8a02-48d9-b719-66552ada8396",
     "showTitle": false,
     "title": ""
    }
   },
   "outputs": [
    {
     "output_type": "display_data",
     "data": {
      "image/png": "[encoded data removed]",
      "text/plain": [
       "<Figure size 640x480 with 1 Axes>"
      ]
     },
     "metadata": {},
     "output_type": "display_data"
    }
   ],
   "source": [
    "ax = no_outliers[['Funds Per Agency', 'Expenses Per Agency']].plot(kind='box', title='Boxplots of Funds and Expenses')\n",
    "plt.show()"
   ]
  },
  {
   "cell_type": "code",
   "execution_count": 0,
   "metadata": {
    "application/vnd.databricks.v1+cell": {
     "cellMetadata": {
      "byteLimit": 2048000,
      "rowLimit": 10000
     },
     "inputWidgets": {},
     "nuid": "2ece40d1-552b-4c52-9637-8a55e6d4fe4f",
     "showTitle": false,
     "title": ""
    }
   },
   "outputs": [
    {
     "output_type": "execute_result",
     "data": {
      "text/plain": [
       "array([[1.        , 0.32982962],\n",
       "       [0.32982962, 1.        ]])"
      ]
     },
     "execution_count": 36,
     "metadata": {},
     "output_type": "execute_result"
    }
   ],
   "source": [
    "np.corrcoef(no_outliers['Funds Per Agency'], no_outliers['Percentage of Funds Spent'])"
   ]
  },
  {
   "cell_type": "code",
   "execution_count": 0,
   "metadata": {
    "application/vnd.databricks.v1+cell": {
     "cellMetadata": {
      "byteLimit": 2048000,
      "rowLimit": 10000
     },
     "inputWidgets": {},
     "nuid": "3f9361b0-e35f-4902-9653-58da337dc7c7",
     "showTitle": false,
     "title": ""
    }
   },
   "outputs": [],
   "source": []
  }
 ],
 "metadata": {
  "application/vnd.databricks.v1+notebook": {
   "dashboards": [],
   "language": "python",
   "notebookMetadata": {
    "pythonIndentUnit": 4
   },
   "notebookName": "final_ledgerq1",
   "widgets": {}
  }
 },
 "nbformat": 4,
 "nbformat_minor": 0
}
